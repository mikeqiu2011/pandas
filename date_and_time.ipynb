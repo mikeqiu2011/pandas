{
 "cells": [
  {
   "cell_type": "code",
   "execution_count": 2,
   "id": "eacc7e1e-248c-4121-a55c-c4234de85db1",
   "metadata": {},
   "outputs": [],
   "source": [
    "import pandas as pd\n",
    "import datetime as dt"
   ]
  },
  {
   "cell_type": "markdown",
   "id": "cd9b087a-3d3c-4d35-a033-9428904d1b6a",
   "metadata": {},
   "source": [
    "# review of python's datetime module"
   ]
  },
  {
   "cell_type": "code",
   "execution_count": 3,
   "id": "00816d52-32ae-45b9-976f-01a4e62694ee",
   "metadata": {},
   "outputs": [],
   "source": [
    "someday = dt.date(2000,1,20)"
   ]
  },
  {
   "cell_type": "code",
   "execution_count": 4,
   "id": "c595c821-c9cd-49a3-a4c8-ec93ca564544",
   "metadata": {},
   "outputs": [
    {
     "data": {
      "text/plain": [
       "(2000, 1, 20)"
      ]
     },
     "execution_count": 4,
     "metadata": {},
     "output_type": "execute_result"
    }
   ],
   "source": [
    "someday.year, someday.month, someday.day"
   ]
  },
  {
   "cell_type": "code",
   "execution_count": 5,
   "id": "ea82029b-e876-4734-b484-eec9cf0be6d4",
   "metadata": {},
   "outputs": [
    {
     "data": {
      "text/plain": [
       "datetime.datetime(2000, 1, 20, 0, 0)"
      ]
     },
     "execution_count": 5,
     "metadata": {},
     "output_type": "execute_result"
    }
   ],
   "source": [
    "dt.datetime(2000, 1, 20) # default to midnight"
   ]
  },
  {
   "cell_type": "code",
   "execution_count": 6,
   "id": "3191f041-2d8a-4ab0-a5ff-fc903c8e23ba",
   "metadata": {},
   "outputs": [
    {
     "data": {
      "text/plain": [
       "datetime.datetime(2000, 1, 20, 17, 30, 57)"
      ]
     },
     "execution_count": 6,
     "metadata": {},
     "output_type": "execute_result"
    }
   ],
   "source": [
    "# year, month, day, hour, minute, second\n",
    "sometime = dt.datetime(2000, 1, 20, 17, 30, 57)\n",
    "sometime"
   ]
  },
  {
   "cell_type": "code",
   "execution_count": 7,
   "id": "b4f6c7b3-e591-4794-82d2-7fef4ec54509",
   "metadata": {},
   "outputs": [
    {
     "data": {
      "text/plain": [
       "'2000-01-20 17:30:57'"
      ]
     },
     "execution_count": 7,
     "metadata": {},
     "output_type": "execute_result"
    }
   ],
   "source": [
    "str(sometime)"
   ]
  },
  {
   "cell_type": "code",
   "execution_count": 8,
   "id": "9619b3a4-fd1b-49f9-93af-2d94043d0f08",
   "metadata": {},
   "outputs": [
    {
     "data": {
      "text/plain": [
       "(1, 17)"
      ]
     },
     "execution_count": 8,
     "metadata": {},
     "output_type": "execute_result"
    }
   ],
   "source": [
    "sometime.month, sometime.hour"
   ]
  },
  {
   "cell_type": "markdown",
   "id": "4641a260-38b1-4746-814c-e524a1d17f98",
   "metadata": {},
   "source": [
    "# pandas timestamp object"
   ]
  },
  {
   "cell_type": "code",
   "execution_count": 9,
   "id": "b84ebadc-3227-4614-ad0b-3398b3f96846",
   "metadata": {},
   "outputs": [
    {
     "data": {
      "text/plain": [
       "Timestamp('2023-02-13 20:18:59')"
      ]
     },
     "execution_count": 9,
     "metadata": {},
     "output_type": "execute_result"
    }
   ],
   "source": [
    "pd.Timestamp('2023-02-13')\n",
    "pd.Timestamp('2023/2/13')\n",
    "pd.Timestamp('2023, 2, 13')\n",
    "pd.Timestamp('2/13/2023')\n",
    "pd.Timestamp('13/2/2023') # pandas can figure out the month and day\n",
    "\n",
    "pd.Timestamp('4/3/2023') # cautious of this one\n",
    "pd.Timestamp('2023/2/13 20:18:59')\n",
    "pd.Timestamp('2023/2/13 8:18:59 PM')"
   ]
  },
  {
   "cell_type": "code",
   "execution_count": 10,
   "id": "ce91c003-05e1-42e7-9ed8-c7378adb634e",
   "metadata": {},
   "outputs": [
    {
     "data": {
      "text/plain": [
       "Timestamp('2000-10-01 00:00:00')"
      ]
     },
     "execution_count": 10,
     "metadata": {},
     "output_type": "execute_result"
    }
   ],
   "source": [
    "pd.Timestamp(dt.datetime(2000, 10, 1))\n",
    "pd.Timestamp(dt.date(2000, 10, 1))"
   ]
  },
  {
   "cell_type": "code",
   "execution_count": 11,
   "id": "4c0d8d56-e725-4904-9fef-ac632b3348d1",
   "metadata": {},
   "outputs": [
    {
     "data": {
      "text/plain": [
       "Timestamp('2000-10-01 20:15:40')"
      ]
     },
     "execution_count": 11,
     "metadata": {},
     "output_type": "execute_result"
    }
   ],
   "source": [
    "pd.Timestamp(dt.datetime(2000, 10, 1, 20, 15, 40))"
   ]
  },
  {
   "cell_type": "markdown",
   "id": "06f491e3-6dbf-4888-86ab-2975ca8bff66",
   "metadata": {},
   "source": [
    "pandas DateTimeIndex obj"
   ]
  },
  {
   "cell_type": "code",
   "execution_count": 12,
   "id": "34f1f074-cc6e-4275-869d-9e0322a52087",
   "metadata": {},
   "outputs": [
    {
     "data": {
      "text/plain": [
       "DatetimeIndex(['2016-01-02', '2016-04-12', '2009-09-07'], dtype='datetime64[ns]', freq=None)"
      ]
     },
     "execution_count": 12,
     "metadata": {},
     "output_type": "execute_result"
    }
   ],
   "source": [
    "dates = ['2016-01-02', '2016/04/12', '2009-09-07']\n",
    "pd.DatetimeIndex(dates)"
   ]
  },
  {
   "cell_type": "code",
   "execution_count": 13,
   "id": "7cc7217d-9f64-47ef-bc2b-73a6f3383bdb",
   "metadata": {},
   "outputs": [],
   "source": [
    "dates = [dt.date(2000,1,1), dt.date(2015, 10, 1), dt.date(2023,1,1)]\n",
    "dtIndex = pd.DatetimeIndex(dates)"
   ]
  },
  {
   "cell_type": "code",
   "execution_count": 14,
   "id": "20c0f3bf-5e21-44eb-91d5-26c7795a0831",
   "metadata": {},
   "outputs": [
    {
     "data": {
      "text/plain": [
       "2000-01-01    100\n",
       "2015-10-01    200\n",
       "2023-01-01    300\n",
       "dtype: int64"
      ]
     },
     "execution_count": 14,
     "metadata": {},
     "output_type": "execute_result"
    }
   ],
   "source": [
    "values = [100, 200, 300]\n",
    "pd.Series(data=values, index=dtIndex)"
   ]
  },
  {
   "cell_type": "markdown",
   "id": "399a2be4-cf57-4a99-8c93-6aa2a65e6ca2",
   "metadata": {},
   "source": [
    "# pd.to_datetime()"
   ]
  },
  {
   "cell_type": "code",
   "execution_count": 15,
   "id": "dbb91b93-d3c0-4e87-8b7f-786d3baf3736",
   "metadata": {},
   "outputs": [
    {
     "data": {
      "text/plain": [
       "Timestamp('2000-01-01 00:00:00')"
      ]
     },
     "execution_count": 15,
     "metadata": {},
     "output_type": "execute_result"
    }
   ],
   "source": [
    "pd.to_datetime('2000/01/01')"
   ]
  },
  {
   "cell_type": "code",
   "execution_count": 16,
   "id": "dba02a95-99ef-43b6-9e0c-85d7f19855a0",
   "metadata": {},
   "outputs": [
    {
     "data": {
      "text/plain": [
       "Timestamp('2000-01-01 00:00:00')"
      ]
     },
     "execution_count": 16,
     "metadata": {},
     "output_type": "execute_result"
    }
   ],
   "source": [
    "pd.to_datetime(dt.date(2000, 1, 1))"
   ]
  },
  {
   "cell_type": "code",
   "execution_count": 17,
   "id": "51b236eb-b1a3-4f6a-a7b4-c15c66aef9af",
   "metadata": {},
   "outputs": [
    {
     "data": {
      "text/plain": [
       "DatetimeIndex(['2000-01-01', '2010-10-10', '2020-01-01', '1996-07-04'], dtype='datetime64[ns]', freq=None)"
      ]
     },
     "execution_count": 17,
     "metadata": {},
     "output_type": "execute_result"
    }
   ],
   "source": [
    "pd.to_datetime(['2000/1/1', '2010/10/10', '2020', 'July 4th, 1996'])"
   ]
  },
  {
   "cell_type": "code",
   "execution_count": 18,
   "id": "82753bd7-86d6-4ae8-88f3-20ea256b0e52",
   "metadata": {},
   "outputs": [
    {
     "data": {
      "text/plain": [
       "0          2000/1/1\n",
       "1        2010/10/10\n",
       "2              2020\n",
       "3    July 4th, 1996\n",
       "dtype: object"
      ]
     },
     "execution_count": 18,
     "metadata": {},
     "output_type": "execute_result"
    }
   ],
   "source": [
    "times = pd.Series(['2000/1/1', '2010/10/10', '2020', 'July 4th, 1996'])\n",
    "times"
   ]
  },
  {
   "cell_type": "code",
   "execution_count": 19,
   "id": "bb482572-f805-48a9-8a5e-59c7471afeb9",
   "metadata": {},
   "outputs": [
    {
     "data": {
      "text/plain": [
       "0   2000-01-01\n",
       "1   2010-10-10\n",
       "2   2020-01-01\n",
       "3   1996-07-04\n",
       "dtype: datetime64[ns]"
      ]
     },
     "execution_count": 19,
     "metadata": {},
     "output_type": "execute_result"
    }
   ],
   "source": [
    "# convert normal series to datetimeindex\n",
    "pd.to_datetime(times)"
   ]
  },
  {
   "cell_type": "code",
   "execution_count": 20,
   "id": "6f7d1344-1ae3-48d5-a8d3-49b56a4c678d",
   "metadata": {},
   "outputs": [
    {
     "data": {
      "text/plain": [
       "0    July 4th, 1996\n",
       "1        10/04/1991\n",
       "2             Hello\n",
       "3        2015-02-31\n",
       "dtype: object"
      ]
     },
     "execution_count": 20,
     "metadata": {},
     "output_type": "execute_result"
    }
   ],
   "source": [
    "# fucky dates\n",
    "dates = pd.Series(['July 4th, 1996', '10/04/1991', 'Hello', '2015-02-31'])\n",
    "dates"
   ]
  },
  {
   "cell_type": "code",
   "execution_count": 21,
   "id": "eb23e59a-94ef-445a-89c6-919ee00c8146",
   "metadata": {},
   "outputs": [
    {
     "data": {
      "text/plain": [
       "0   1996-07-04\n",
       "1   1991-10-04\n",
       "2          NaT\n",
       "3          NaT\n",
       "dtype: datetime64[ns]"
      ]
     },
     "execution_count": 21,
     "metadata": {},
     "output_type": "execute_result"
    }
   ],
   "source": [
    "# pd.to_datetime(dates) by default error is raised\n",
    "pd.to_datetime(dates, errors='coerce') # convert to 'NaT' of invalid date string"
   ]
  },
  {
   "cell_type": "code",
   "execution_count": 22,
   "id": "ca703d4c-f775-4259-835e-601b28da9ac4",
   "metadata": {},
   "outputs": [
    {
     "data": {
      "text/plain": [
       "DatetimeIndex(['2012-10-08 18:15:05', '2012-10-09 18:15:05'], dtype='datetime64[ns]', freq=None)"
      ]
     },
     "execution_count": 22,
     "metadata": {},
     "output_type": "execute_result"
    }
   ],
   "source": [
    "ts = [1349720105, 1349806505]\n",
    "pd.to_datetime(ts, unit='s')"
   ]
  },
  {
   "cell_type": "markdown",
   "id": "45d6282c-0242-4898-9d7f-d49bdb4a49f7",
   "metadata": {},
   "source": [
    "# create range of dates with the pd.date_range() - part 1"
   ]
  },
  {
   "cell_type": "code",
   "execution_count": 23,
   "id": "61a64030-f190-4ae8-8772-645b4f42919d",
   "metadata": {},
   "outputs": [
    {
     "data": {
      "text/plain": [
       "DatetimeIndex(['2023-01-01', '2023-01-03', '2023-01-05', '2023-01-07'], dtype='datetime64[ns]', freq='2D')"
      ]
     },
     "execution_count": 23,
     "metadata": {},
     "output_type": "execute_result"
    }
   ],
   "source": [
    "times = pd.date_range(start='2023/1/1', end='2023/1/8', freq='2d')\n",
    "times"
   ]
  },
  {
   "cell_type": "code",
   "execution_count": 24,
   "id": "603e2c5f-5df1-4f5f-8ee2-1db59c432633",
   "metadata": {},
   "outputs": [
    {
     "data": {
      "text/plain": [
       "(pandas.core.indexes.datetimes.DatetimeIndex,\n",
       " pandas._libs.tslibs.timestamps.Timestamp)"
      ]
     },
     "execution_count": 24,
     "metadata": {},
     "output_type": "execute_result"
    }
   ],
   "source": [
    "type(times), type(times[0])"
   ]
  },
  {
   "cell_type": "code",
   "execution_count": 25,
   "id": "41a9e0ad-4403-4360-9f2b-9d7dbee1c53c",
   "metadata": {},
   "outputs": [
    {
     "data": {
      "text/plain": [
       "DatetimeIndex(['2023-01-02', '2023-01-03', '2023-01-04', '2023-01-05',\n",
       "               '2023-01-06', '2023-01-09', '2023-01-10'],\n",
       "              dtype='datetime64[ns]', freq='B')"
      ]
     },
     "execution_count": 25,
     "metadata": {},
     "output_type": "execute_result"
    }
   ],
   "source": [
    "# business day exclude weekend/ holidy\n",
    "pd.date_range(start='2023/1/1', end='2023/1/10', freq='b')"
   ]
  },
  {
   "cell_type": "code",
   "execution_count": 26,
   "id": "fe3be54b-3a57-4184-bd62-d247cab7d332",
   "metadata": {},
   "outputs": [
    {
     "data": {
      "text/plain": [
       "DatetimeIndex(['2016-01-03', '2016-01-10'], dtype='datetime64[ns]', freq='W-SUN')"
      ]
     },
     "execution_count": 26,
     "metadata": {},
     "output_type": "execute_result"
    }
   ],
   "source": [
    "# weekday, default to sunday\n",
    "pd.date_range(start='2016/1/1', end='2016/1/15', freq='w')"
   ]
  },
  {
   "cell_type": "code",
   "execution_count": 27,
   "id": "18b93e8a-fe73-42d8-97d5-c14018d1e268",
   "metadata": {},
   "outputs": [
    {
     "data": {
      "text/plain": [
       "DatetimeIndex(['2016-01-01', '2016-01-08', '2016-01-15'], dtype='datetime64[ns]', freq='W-FRI')"
      ]
     },
     "execution_count": 27,
     "metadata": {},
     "output_type": "execute_result"
    }
   ],
   "source": [
    "pd.date_range(start='2016/1/1', end='2016/1/15', freq='w-fri')"
   ]
  },
  {
   "cell_type": "code",
   "execution_count": 28,
   "id": "00f9a403-d836-4463-90ec-1f77355574a8",
   "metadata": {},
   "outputs": [
    {
     "data": {
      "text/plain": [
       "DatetimeIndex(['2016-01-01 00:00:00', '2016-01-01 06:00:00',\n",
       "               '2016-01-01 12:00:00', '2016-01-01 18:00:00',\n",
       "               '2016-01-02 00:00:00', '2016-01-02 06:00:00',\n",
       "               '2016-01-02 12:00:00', '2016-01-02 18:00:00',\n",
       "               '2016-01-03 00:00:00', '2016-01-03 06:00:00',\n",
       "               '2016-01-03 12:00:00', '2016-01-03 18:00:00',\n",
       "               '2016-01-04 00:00:00', '2016-01-04 06:00:00',\n",
       "               '2016-01-04 12:00:00', '2016-01-04 18:00:00',\n",
       "               '2016-01-05 00:00:00', '2016-01-05 06:00:00',\n",
       "               '2016-01-05 12:00:00', '2016-01-05 18:00:00',\n",
       "               '2016-01-06 00:00:00', '2016-01-06 06:00:00',\n",
       "               '2016-01-06 12:00:00', '2016-01-06 18:00:00',\n",
       "               '2016-01-07 00:00:00', '2016-01-07 06:00:00',\n",
       "               '2016-01-07 12:00:00', '2016-01-07 18:00:00',\n",
       "               '2016-01-08 00:00:00', '2016-01-08 06:00:00',\n",
       "               '2016-01-08 12:00:00', '2016-01-08 18:00:00',\n",
       "               '2016-01-09 00:00:00', '2016-01-09 06:00:00',\n",
       "               '2016-01-09 12:00:00', '2016-01-09 18:00:00',\n",
       "               '2016-01-10 00:00:00', '2016-01-10 06:00:00',\n",
       "               '2016-01-10 12:00:00', '2016-01-10 18:00:00',\n",
       "               '2016-01-11 00:00:00', '2016-01-11 06:00:00',\n",
       "               '2016-01-11 12:00:00', '2016-01-11 18:00:00',\n",
       "               '2016-01-12 00:00:00', '2016-01-12 06:00:00',\n",
       "               '2016-01-12 12:00:00', '2016-01-12 18:00:00',\n",
       "               '2016-01-13 00:00:00', '2016-01-13 06:00:00',\n",
       "               '2016-01-13 12:00:00', '2016-01-13 18:00:00',\n",
       "               '2016-01-14 00:00:00', '2016-01-14 06:00:00',\n",
       "               '2016-01-14 12:00:00', '2016-01-14 18:00:00',\n",
       "               '2016-01-15 00:00:00'],\n",
       "              dtype='datetime64[ns]', freq='6H')"
      ]
     },
     "execution_count": 28,
     "metadata": {},
     "output_type": "execute_result"
    }
   ],
   "source": [
    "# hour\n",
    "pd.date_range(start='2016/1/1', end='2016/1/15', freq='6h')"
   ]
  },
  {
   "cell_type": "code",
   "execution_count": 29,
   "id": "4a1a6ffc-46a7-4c99-9962-b17df3082288",
   "metadata": {},
   "outputs": [
    {
     "data": {
      "text/plain": [
       "DatetimeIndex(['2016-01-31', '2016-02-29', '2016-03-31', '2016-04-30',\n",
       "               '2016-05-31', '2016-06-30', '2016-07-31', '2016-08-31',\n",
       "               '2016-09-30', '2016-10-31', '2016-11-30'],\n",
       "              dtype='datetime64[ns]', freq='M')"
      ]
     },
     "execution_count": 29,
     "metadata": {},
     "output_type": "execute_result"
    }
   ],
   "source": [
    "# month end\n",
    "pd.date_range(start='2016/1/1', end='2016/12/15', freq='m')"
   ]
  },
  {
   "cell_type": "code",
   "execution_count": 30,
   "id": "a4dc0d79-f2f7-4666-8297-f08dbb0ba673",
   "metadata": {},
   "outputs": [
    {
     "data": {
      "text/plain": [
       "DatetimeIndex(['2016-01-01', '2016-02-01', '2016-03-01', '2016-04-01',\n",
       "               '2016-05-01', '2016-06-01', '2016-07-01', '2016-08-01',\n",
       "               '2016-09-01', '2016-10-01', '2016-11-01', '2016-12-01'],\n",
       "              dtype='datetime64[ns]', freq='MS')"
      ]
     },
     "execution_count": 30,
     "metadata": {},
     "output_type": "execute_result"
    }
   ],
   "source": [
    "# month start\n",
    "pd.date_range(start='2016/1/1', end='2016/12/15', freq='MS')"
   ]
  },
  {
   "cell_type": "code",
   "execution_count": 31,
   "id": "ce4a2ab9-e46a-4949-9a30-d3cc2d7e1438",
   "metadata": {},
   "outputs": [
    {
     "data": {
      "text/plain": [
       "DatetimeIndex(['2016-12-31', '2017-12-31', '2018-12-31', '2019-12-31',\n",
       "               '2020-12-31', '2021-12-31', '2022-12-31', '2023-12-31',\n",
       "               '2024-12-31', '2025-12-31', '2026-12-31', '2027-12-31',\n",
       "               '2028-12-31', '2029-12-31', '2030-12-31', '2031-12-31',\n",
       "               '2032-12-31', '2033-12-31', '2034-12-31', '2035-12-31',\n",
       "               '2036-12-31', '2037-12-31', '2038-12-31', '2039-12-31',\n",
       "               '2040-12-31', '2041-12-31', '2042-12-31', '2043-12-31',\n",
       "               '2044-12-31', '2045-12-31', '2046-12-31', '2047-12-31',\n",
       "               '2048-12-31', '2049-12-31'],\n",
       "              dtype='datetime64[ns]', freq='A-DEC')"
      ]
     },
     "execution_count": 31,
     "metadata": {},
     "output_type": "execute_result"
    }
   ],
   "source": [
    "# year end\n",
    "pd.date_range(start='2016/1/1', end='2050/12/15', freq='A')"
   ]
  },
  {
   "cell_type": "markdown",
   "id": "c46b40e5-bda4-4562-b6ab-e1756e10a1a8",
   "metadata": {},
   "source": [
    "# pd.date_range() - part 2"
   ]
  },
  {
   "cell_type": "code",
   "execution_count": 35,
   "id": "4a0c9edf-436d-4dd7-b24e-e6e7dfc8a833",
   "metadata": {},
   "outputs": [
    {
     "data": {
      "text/plain": [
       "DatetimeIndex(['2023-01-01', '2023-01-02', '2023-01-03', '2023-01-04',\n",
       "               '2023-01-05', '2023-01-06', '2023-01-07', '2023-01-08',\n",
       "               '2023-01-09', '2023-01-10'],\n",
       "              dtype='datetime64[ns]', freq='D')"
      ]
     },
     "execution_count": 35,
     "metadata": {},
     "output_type": "execute_result"
    }
   ],
   "source": [
    "# periods specify the number item you want to return\n",
    "pd.date_range(start='2023/1/1', periods=10)"
   ]
  },
  {
   "cell_type": "code",
   "execution_count": 39,
   "id": "77039c55-b067-47e3-9738-125cf2645e5e",
   "metadata": {},
   "outputs": [
    {
     "data": {
      "text/plain": [
       "DatetimeIndex(['2023-01-02', '2023-01-03', '2023-01-04', '2023-01-05',\n",
       "               '2023-01-06', '2023-01-09', '2023-01-10', '2023-01-11',\n",
       "               '2023-01-12', '2023-01-13'],\n",
       "              dtype='datetime64[ns]', freq='B')"
      ]
     },
     "execution_count": 39,
     "metadata": {},
     "output_type": "execute_result"
    }
   ],
   "source": [
    "pd.date_range(start='2023/1/1', periods=10, freq='B')"
   ]
  },
  {
   "cell_type": "code",
   "execution_count": 38,
   "id": "4b52b5e3-cdef-4856-a5c6-7447f3d9ad25",
   "metadata": {},
   "outputs": [
    {
     "data": {
      "text/plain": [
       "DatetimeIndex(['2023-01-01', '2023-01-08', '2023-01-15', '2023-01-22',\n",
       "               '2023-01-29', '2023-02-05', '2023-02-12', '2023-02-19',\n",
       "               '2023-02-26', '2023-03-05'],\n",
       "              dtype='datetime64[ns]', freq='W-SUN')"
      ]
     },
     "execution_count": 38,
     "metadata": {},
     "output_type": "execute_result"
    }
   ],
   "source": [
    " pd.date_range(start='2023/1/1', periods=10, freq='W-SUN')"
   ]
  },
  {
   "cell_type": "code",
   "execution_count": 43,
   "id": "fc3c05e6-95bb-4d2b-be59-106b178c1a8c",
   "metadata": {},
   "outputs": [
    {
     "data": {
      "text/plain": [
       "DatetimeIndex(['2023-01-01', '2023-02-01', '2023-03-01', '2023-04-01',\n",
       "               '2023-05-01', '2023-06-01', '2023-07-01', '2023-08-01',\n",
       "               '2023-09-01', '2023-10-01'],\n",
       "              dtype='datetime64[ns]', freq='MS')"
      ]
     },
     "execution_count": 43,
     "metadata": {},
     "output_type": "execute_result"
    }
   ],
   "source": [
    "pd.date_range(start='2023/1/1', periods=10, freq='MS')"
   ]
  },
  {
   "cell_type": "markdown",
   "id": "e926d537-0070-4922-bab7-e09cd5b17adf",
   "metadata": {},
   "source": [
    "# pd.date_range() - part 3"
   ]
  },
  {
   "cell_type": "code",
   "execution_count": 46,
   "id": "e5130d5d-eb21-4e6e-a6fc-f76d59560507",
   "metadata": {},
   "outputs": [
    {
     "data": {
      "text/plain": [
       "DatetimeIndex(['2022-12-15', '2022-12-17', '2022-12-19', '2022-12-21',\n",
       "               '2022-12-23', '2022-12-25', '2022-12-27', '2022-12-29',\n",
       "               '2022-12-31', '2023-01-02'],\n",
       "              dtype='datetime64[ns]', freq='2D')"
      ]
     },
     "execution_count": 46,
     "metadata": {},
     "output_type": "execute_result"
    }
   ],
   "source": [
    "pd.date_range(end='2023/1/2', periods=10, freq='2D')"
   ]
  },
  {
   "cell_type": "markdown",
   "id": "1db946a9-9840-4bea-aa60-2ba1600076e9",
   "metadata": {},
   "source": [
    "# .dt Accessor"
   ]
  },
  {
   "cell_type": "code",
   "execution_count": 49,
   "id": "dba58e22-e26d-4d95-937a-319f655dc963",
   "metadata": {},
   "outputs": [],
   "source": [
    "dates = pd.date_range(start='2000-01-01', end='2010-12-31', freq='24D')"
   ]
  },
  {
   "cell_type": "code",
   "execution_count": 51,
   "id": "712fda46-b618-4c6b-96a8-2c759a7cba34",
   "metadata": {},
   "outputs": [
    {
     "data": {
      "text/plain": [
       "0     2000-01-01\n",
       "1     2000-01-25\n",
       "2     2000-02-18\n",
       "3     2000-03-13\n",
       "4     2000-04-06\n",
       "         ...    \n",
       "163   2010-09-17\n",
       "164   2010-10-11\n",
       "165   2010-11-04\n",
       "166   2010-11-28\n",
       "167   2010-12-22\n",
       "Length: 168, dtype: datetime64[ns]"
      ]
     },
     "execution_count": 51,
     "metadata": {},
     "output_type": "execute_result"
    }
   ],
   "source": [
    "s = pd.Series(dates)\n",
    "s"
   ]
  },
  {
   "cell_type": "code",
   "execution_count": 58,
   "id": "5e50521c-263b-4ea9-bba3-b4c39284af1d",
   "metadata": {},
   "outputs": [
    {
     "data": {
      "text/plain": [
       "0       Saturday\n",
       "1        Tuesday\n",
       "2         Friday\n",
       "3         Monday\n",
       "4       Thursday\n",
       "         ...    \n",
       "163       Friday\n",
       "164       Monday\n",
       "165     Thursday\n",
       "166       Sunday\n",
       "167    Wednesday\n",
       "Length: 168, dtype: object"
      ]
     },
     "execution_count": 58,
     "metadata": {},
     "output_type": "execute_result"
    }
   ],
   "source": [
    "#s.day\n",
    "s.dt.day\n",
    "s.dt.day_name()"
   ]
  },
  {
   "cell_type": "code",
   "execution_count": 61,
   "id": "4950bb6a-1901-494f-bbd9-abd3efe1ff2f",
   "metadata": {},
   "outputs": [
    {
     "data": {
      "text/plain": [
       "0     2000-01-01\n",
       "19    2001-04-01\n",
       "38    2002-07-01\n",
       "137   2009-01-01\n",
       "dtype: datetime64[ns]"
      ]
     },
     "execution_count": 61,
     "metadata": {},
     "output_type": "execute_result"
    }
   ],
   "source": [
    "mask = s.dt.is_quarter_start\n",
    "s[mask]"
   ]
  },
  {
   "cell_type": "code",
   "execution_count": 62,
   "id": "feeafc58-3d67-4844-bb05-c5e6afd28914",
   "metadata": {},
   "outputs": [
    {
     "data": {
      "text/plain": [
       "5     2000-04-30\n",
       "57    2003-09-30\n",
       "71    2004-08-31\n",
       "90    2005-11-30\n",
       "123   2008-01-31\n",
       "161   2010-07-31\n",
       "dtype: datetime64[ns]"
      ]
     },
     "execution_count": 62,
     "metadata": {},
     "output_type": "execute_result"
    }
   ],
   "source": [
    "mask = s.dt.is_month_end\n",
    "s[mask]"
   ]
  },
  {
   "cell_type": "markdown",
   "id": "0317e06f-50f4-4667-a469-00c56e2791d5",
   "metadata": {},
   "source": [
    "# import financial dataset with pandas_datareader library"
   ]
  },
  {
   "cell_type": "markdown",
   "id": "7e329d3b-9aa6-45fd-af75-45ab9a5ead9b",
   "metadata": {},
   "source": [
    "> conda install pandas_datareader"
   ]
  },
  {
   "cell_type": "code",
   "execution_count": 63,
   "id": "4f19a9cb-1f3a-44d9-b817-c05cc41fc6ea",
   "metadata": {},
   "outputs": [],
   "source": [
    "from pandas_datareader import data"
   ]
  },
  {
   "cell_type": "code",
   "execution_count": 71,
   "id": "da11ad6e-0dfa-420d-8933-585741cee8cd",
   "metadata": {},
   "outputs": [
    {
     "data": {
      "text/html": [
       "<div>\n",
       "<style scoped>\n",
       "    .dataframe tbody tr th:only-of-type {\n",
       "        vertical-align: middle;\n",
       "    }\n",
       "\n",
       "    .dataframe tbody tr th {\n",
       "        vertical-align: top;\n",
       "    }\n",
       "\n",
       "    .dataframe thead th {\n",
       "        text-align: right;\n",
       "    }\n",
       "</style>\n",
       "<table border=\"1\" class=\"dataframe\">\n",
       "  <thead>\n",
       "    <tr style=\"text-align: right;\">\n",
       "      <th></th>\n",
       "      <th>Open</th>\n",
       "      <th>High</th>\n",
       "      <th>Low</th>\n",
       "      <th>Close</th>\n",
       "      <th>Adj Close</th>\n",
       "      <th>Volume</th>\n",
       "    </tr>\n",
       "    <tr>\n",
       "      <th>Date</th>\n",
       "      <th></th>\n",
       "      <th></th>\n",
       "      <th></th>\n",
       "      <th></th>\n",
       "      <th></th>\n",
       "      <th></th>\n",
       "    </tr>\n",
       "  </thead>\n",
       "  <tbody>\n",
       "    <tr>\n",
       "      <th>2010-01-04</th>\n",
       "      <td>30.620001</td>\n",
       "      <td>31.10</td>\n",
       "      <td>30.590000</td>\n",
       "      <td>30.950001</td>\n",
       "      <td>23.683067</td>\n",
       "      <td>38409100</td>\n",
       "    </tr>\n",
       "    <tr>\n",
       "      <th>2010-01-05</th>\n",
       "      <td>30.850000</td>\n",
       "      <td>31.10</td>\n",
       "      <td>30.639999</td>\n",
       "      <td>30.959999</td>\n",
       "      <td>23.690716</td>\n",
       "      <td>49749600</td>\n",
       "    </tr>\n",
       "    <tr>\n",
       "      <th>2010-01-06</th>\n",
       "      <td>30.879999</td>\n",
       "      <td>31.08</td>\n",
       "      <td>30.520000</td>\n",
       "      <td>30.770000</td>\n",
       "      <td>23.545336</td>\n",
       "      <td>58182400</td>\n",
       "    </tr>\n",
       "  </tbody>\n",
       "</table>\n",
       "</div>"
      ],
      "text/plain": [
       "                 Open   High        Low      Close  Adj Close    Volume\n",
       "Date                                                                   \n",
       "2010-01-04  30.620001  31.10  30.590000  30.950001  23.683067  38409100\n",
       "2010-01-05  30.850000  31.10  30.639999  30.959999  23.690716  49749600\n",
       "2010-01-06  30.879999  31.08  30.520000  30.770000  23.545336  58182400"
      ]
     },
     "execution_count": 71,
     "metadata": {},
     "output_type": "execute_result"
    }
   ],
   "source": [
    "# data.DataReader(name='MSFT', data_source='fred', start='2010', end='2020')\n",
    "stocks = pd.read_csv('data/MSFT.csv', parse_dates=['Date'], index_col='Date')\n",
    "stocks.head(3)"
   ]
  },
  {
   "cell_type": "code",
   "execution_count": 73,
   "id": "282401cd-8d13-4a58-b25d-bfc4ea80da32",
   "metadata": {},
   "outputs": [
    {
     "data": {
      "text/plain": [
       "DatetimeIndex(['2010-01-04', '2010-01-05', '2010-01-06', '2010-01-07',\n",
       "               '2010-01-08', '2010-01-11', '2010-01-12', '2010-01-13',\n",
       "               '2010-01-14', '2010-01-15',\n",
       "               ...\n",
       "               '2023-01-30', '2023-01-31', '2023-02-01', '2023-02-02',\n",
       "               '2023-02-03', '2023-02-06', '2023-02-07', '2023-02-08',\n",
       "               '2023-02-09', '2023-02-10'],\n",
       "              dtype='datetime64[ns]', name='Date', length=3300, freq=None)"
      ]
     },
     "execution_count": 73,
     "metadata": {},
     "output_type": "execute_result"
    }
   ],
   "source": [
    "stocks.values\n",
    "stocks.index"
   ]
  },
  {
   "cell_type": "code",
   "execution_count": 76,
   "id": "810f1082-ae91-492e-a68b-975d0e493515",
   "metadata": {},
   "outputs": [
    {
     "data": {
      "text/html": [
       "<div>\n",
       "<style scoped>\n",
       "    .dataframe tbody tr th:only-of-type {\n",
       "        vertical-align: middle;\n",
       "    }\n",
       "\n",
       "    .dataframe tbody tr th {\n",
       "        vertical-align: top;\n",
       "    }\n",
       "\n",
       "    .dataframe thead th {\n",
       "        text-align: right;\n",
       "    }\n",
       "</style>\n",
       "<table border=\"1\" class=\"dataframe\">\n",
       "  <thead>\n",
       "    <tr style=\"text-align: right;\">\n",
       "      <th></th>\n",
       "      <th>Open</th>\n",
       "      <th>Close</th>\n",
       "    </tr>\n",
       "    <tr>\n",
       "      <th>Date</th>\n",
       "      <th></th>\n",
       "      <th></th>\n",
       "    </tr>\n",
       "  </thead>\n",
       "  <tbody>\n",
       "    <tr>\n",
       "      <th>2023-02-01</th>\n",
       "      <td>248.000000</td>\n",
       "      <td>252.750000</td>\n",
       "    </tr>\n",
       "    <tr>\n",
       "      <th>2023-02-02</th>\n",
       "      <td>258.820007</td>\n",
       "      <td>264.600006</td>\n",
       "    </tr>\n",
       "    <tr>\n",
       "      <th>2023-02-03</th>\n",
       "      <td>259.540009</td>\n",
       "      <td>258.350006</td>\n",
       "    </tr>\n",
       "    <tr>\n",
       "      <th>2023-02-06</th>\n",
       "      <td>257.440002</td>\n",
       "      <td>256.769989</td>\n",
       "    </tr>\n",
       "    <tr>\n",
       "      <th>2023-02-07</th>\n",
       "      <td>260.529999</td>\n",
       "      <td>267.559998</td>\n",
       "    </tr>\n",
       "    <tr>\n",
       "      <th>2023-02-08</th>\n",
       "      <td>273.200012</td>\n",
       "      <td>266.730011</td>\n",
       "    </tr>\n",
       "    <tr>\n",
       "      <th>2023-02-09</th>\n",
       "      <td>273.799988</td>\n",
       "      <td>263.619995</td>\n",
       "    </tr>\n",
       "    <tr>\n",
       "      <th>2023-02-10</th>\n",
       "      <td>261.529999</td>\n",
       "      <td>263.100006</td>\n",
       "    </tr>\n",
       "  </tbody>\n",
       "</table>\n",
       "</div>"
      ],
      "text/plain": [
       "                  Open       Close\n",
       "Date                              \n",
       "2023-02-01  248.000000  252.750000\n",
       "2023-02-02  258.820007  264.600006\n",
       "2023-02-03  259.540009  258.350006\n",
       "2023-02-06  257.440002  256.769989\n",
       "2023-02-07  260.529999  267.559998\n",
       "2023-02-08  273.200012  266.730011\n",
       "2023-02-09  273.799988  263.619995\n",
       "2023-02-10  261.529999  263.100006"
      ]
     },
     "execution_count": 76,
     "metadata": {},
     "output_type": "execute_result"
    }
   ],
   "source": [
    "stocks.loc['2023/2/1':, ['Open','Close']]"
   ]
  },
  {
   "cell_type": "code",
   "execution_count": 79,
   "id": "94325361-9686-49ce-8a43-f385018ca489",
   "metadata": {},
   "outputs": [
    {
     "data": {
      "text/html": [
       "<div>\n",
       "<style scoped>\n",
       "    .dataframe tbody tr th:only-of-type {\n",
       "        vertical-align: middle;\n",
       "    }\n",
       "\n",
       "    .dataframe tbody tr th {\n",
       "        vertical-align: top;\n",
       "    }\n",
       "\n",
       "    .dataframe thead th {\n",
       "        text-align: right;\n",
       "    }\n",
       "</style>\n",
       "<table border=\"1\" class=\"dataframe\">\n",
       "  <thead>\n",
       "    <tr style=\"text-align: right;\">\n",
       "      <th></th>\n",
       "      <th>Open</th>\n",
       "      <th>High</th>\n",
       "      <th>Low</th>\n",
       "      <th>Close</th>\n",
       "      <th>Adj Close</th>\n",
       "      <th>Volume</th>\n",
       "    </tr>\n",
       "    <tr>\n",
       "      <th>Date</th>\n",
       "      <th></th>\n",
       "      <th></th>\n",
       "      <th></th>\n",
       "      <th></th>\n",
       "      <th></th>\n",
       "      <th></th>\n",
       "    </tr>\n",
       "  </thead>\n",
       "  <tbody>\n",
       "    <tr>\n",
       "      <th>2023-02-01</th>\n",
       "      <td>248.000000</td>\n",
       "      <td>255.179993</td>\n",
       "      <td>245.470001</td>\n",
       "      <td>252.750000</td>\n",
       "      <td>252.750000</td>\n",
       "      <td>31259900</td>\n",
       "    </tr>\n",
       "    <tr>\n",
       "      <th>2023-02-03</th>\n",
       "      <td>259.540009</td>\n",
       "      <td>264.200012</td>\n",
       "      <td>257.100006</td>\n",
       "      <td>258.350006</td>\n",
       "      <td>258.350006</td>\n",
       "      <td>29062300</td>\n",
       "    </tr>\n",
       "  </tbody>\n",
       "</table>\n",
       "</div>"
      ],
      "text/plain": [
       "                  Open        High         Low       Close   Adj Close  \\\n",
       "Date                                                                     \n",
       "2023-02-01  248.000000  255.179993  245.470001  252.750000  252.750000   \n",
       "2023-02-03  259.540009  264.200012  257.100006  258.350006  258.350006   \n",
       "\n",
       "              Volume  \n",
       "Date                  \n",
       "2023-02-01  31259900  \n",
       "2023-02-03  29062300  "
      ]
     },
     "execution_count": 79,
     "metadata": {},
     "output_type": "execute_result"
    }
   ],
   "source": [
    "# stocks.loc[['2023/2/1', '2023/2/3', '2023/2/5']]\n",
    "stocks.loc[['2023/2/1', '2023/2/3']]"
   ]
  },
  {
   "cell_type": "code",
   "execution_count": 84,
   "id": "eecfe46d-ad33-4657-a3a2-b38b90e62464",
   "metadata": {},
   "outputs": [
    {
     "data": {
      "text/plain": [
       "DatetimeIndex(['2010-10-10', '2011-10-10', '2012-10-10', '2013-10-10',\n",
       "               '2014-10-10', '2015-10-10', '2016-10-10', '2017-10-10',\n",
       "               '2018-10-10', '2019-10-10', '2020-10-10', '2021-10-10',\n",
       "               '2022-10-10', '2023-10-10'],\n",
       "              dtype='datetime64[ns]', freq='<DateOffset: years=1>')"
      ]
     },
     "execution_count": 84,
     "metadata": {},
     "output_type": "execute_result"
    }
   ],
   "source": [
    "# find the price on my birthday\n",
    "birth_dates = pd.date_range(start='2010/10/10', end='2024', freq=pd.DateOffset(years=1))\n",
    "birth_dates"
   ]
  },
  {
   "cell_type": "code",
   "execution_count": 86,
   "id": "f6887ead-d7bb-4494-96d2-49aa2b657730",
   "metadata": {},
   "outputs": [
    {
     "data": {
      "text/html": [
       "<div>\n",
       "<style scoped>\n",
       "    .dataframe tbody tr th:only-of-type {\n",
       "        vertical-align: middle;\n",
       "    }\n",
       "\n",
       "    .dataframe tbody tr th {\n",
       "        vertical-align: top;\n",
       "    }\n",
       "\n",
       "    .dataframe thead th {\n",
       "        text-align: right;\n",
       "    }\n",
       "</style>\n",
       "<table border=\"1\" class=\"dataframe\">\n",
       "  <thead>\n",
       "    <tr style=\"text-align: right;\">\n",
       "      <th></th>\n",
       "      <th>Open</th>\n",
       "      <th>High</th>\n",
       "      <th>Low</th>\n",
       "      <th>Close</th>\n",
       "      <th>Adj Close</th>\n",
       "      <th>Volume</th>\n",
       "    </tr>\n",
       "    <tr>\n",
       "      <th>Date</th>\n",
       "      <th></th>\n",
       "      <th></th>\n",
       "      <th></th>\n",
       "      <th></th>\n",
       "      <th></th>\n",
       "      <th></th>\n",
       "    </tr>\n",
       "  </thead>\n",
       "  <tbody>\n",
       "    <tr>\n",
       "      <th>2011-10-10</th>\n",
       "      <td>26.580000</td>\n",
       "      <td>26.969999</td>\n",
       "      <td>26.469999</td>\n",
       "      <td>26.940001</td>\n",
       "      <td>21.441561</td>\n",
       "      <td>41815300</td>\n",
       "    </tr>\n",
       "    <tr>\n",
       "      <th>2012-10-10</th>\n",
       "      <td>29.150000</td>\n",
       "      <td>29.309999</td>\n",
       "      <td>28.950001</td>\n",
       "      <td>28.980000</td>\n",
       "      <td>23.701344</td>\n",
       "      <td>47227100</td>\n",
       "    </tr>\n",
       "    <tr>\n",
       "      <th>2013-10-10</th>\n",
       "      <td>33.310001</td>\n",
       "      <td>33.889999</td>\n",
       "      <td>33.259998</td>\n",
       "      <td>33.759998</td>\n",
       "      <td>28.464025</td>\n",
       "      <td>42875100</td>\n",
       "    </tr>\n",
       "    <tr>\n",
       "      <th>2014-10-10</th>\n",
       "      <td>45.599998</td>\n",
       "      <td>46.119999</td>\n",
       "      <td>43.950001</td>\n",
       "      <td>44.029999</td>\n",
       "      <td>38.187874</td>\n",
       "      <td>51978100</td>\n",
       "    </tr>\n",
       "    <tr>\n",
       "      <th>2016-10-10</th>\n",
       "      <td>57.910000</td>\n",
       "      <td>58.389999</td>\n",
       "      <td>57.869999</td>\n",
       "      <td>58.040001</td>\n",
       "      <td>53.104618</td>\n",
       "      <td>18196500</td>\n",
       "    </tr>\n",
       "    <tr>\n",
       "      <th>2017-10-10</th>\n",
       "      <td>76.330002</td>\n",
       "      <td>76.629997</td>\n",
       "      <td>76.139999</td>\n",
       "      <td>76.290001</td>\n",
       "      <td>71.484421</td>\n",
       "      <td>13944500</td>\n",
       "    </tr>\n",
       "    <tr>\n",
       "      <th>2018-10-10</th>\n",
       "      <td>111.239998</td>\n",
       "      <td>111.500000</td>\n",
       "      <td>105.790001</td>\n",
       "      <td>106.160004</td>\n",
       "      <td>101.265625</td>\n",
       "      <td>61376300</td>\n",
       "    </tr>\n",
       "    <tr>\n",
       "      <th>2019-10-10</th>\n",
       "      <td>138.490005</td>\n",
       "      <td>139.669998</td>\n",
       "      <td>138.250000</td>\n",
       "      <td>139.100006</td>\n",
       "      <td>134.771988</td>\n",
       "      <td>17654600</td>\n",
       "    </tr>\n",
       "    <tr>\n",
       "      <th>2022-10-10</th>\n",
       "      <td>233.050003</td>\n",
       "      <td>234.559998</td>\n",
       "      <td>226.729996</td>\n",
       "      <td>229.250000</td>\n",
       "      <td>228.605759</td>\n",
       "      <td>29743600</td>\n",
       "    </tr>\n",
       "  </tbody>\n",
       "</table>\n",
       "</div>"
      ],
      "text/plain": [
       "                  Open        High         Low       Close   Adj Close  \\\n",
       "Date                                                                     \n",
       "2011-10-10   26.580000   26.969999   26.469999   26.940001   21.441561   \n",
       "2012-10-10   29.150000   29.309999   28.950001   28.980000   23.701344   \n",
       "2013-10-10   33.310001   33.889999   33.259998   33.759998   28.464025   \n",
       "2014-10-10   45.599998   46.119999   43.950001   44.029999   38.187874   \n",
       "2016-10-10   57.910000   58.389999   57.869999   58.040001   53.104618   \n",
       "2017-10-10   76.330002   76.629997   76.139999   76.290001   71.484421   \n",
       "2018-10-10  111.239998  111.500000  105.790001  106.160004  101.265625   \n",
       "2019-10-10  138.490005  139.669998  138.250000  139.100006  134.771988   \n",
       "2022-10-10  233.050003  234.559998  226.729996  229.250000  228.605759   \n",
       "\n",
       "              Volume  \n",
       "Date                  \n",
       "2011-10-10  41815300  \n",
       "2012-10-10  47227100  \n",
       "2013-10-10  42875100  \n",
       "2014-10-10  51978100  \n",
       "2016-10-10  18196500  \n",
       "2017-10-10  13944500  \n",
       "2018-10-10  61376300  \n",
       "2019-10-10  17654600  \n",
       "2022-10-10  29743600  "
      ]
     },
     "execution_count": 86,
     "metadata": {},
     "output_type": "execute_result"
    }
   ],
   "source": [
    "mask = stocks.index.isin(birth_dates)\n",
    "stocks[mask]"
   ]
  },
  {
   "cell_type": "markdown",
   "id": "2e2270b5-120b-42ef-900c-040e675dd36f",
   "metadata": {},
   "source": [
    "# timestamp obj"
   ]
  },
  {
   "cell_type": "code",
   "execution_count": 88,
   "id": "b7bdba57-6bad-4a92-b9ff-a0b07333d83c",
   "metadata": {},
   "outputs": [
    {
     "data": {
      "text/plain": [
       "Timestamp('2011-12-27 00:00:00')"
      ]
     },
     "execution_count": 88,
     "metadata": {},
     "output_type": "execute_result"
    }
   ],
   "source": [
    "someday = stocks.index[500]\n",
    "someday"
   ]
  },
  {
   "cell_type": "code",
   "execution_count": 93,
   "id": "93870571-ecd7-4445-af50-cdff24f7900e",
   "metadata": {},
   "outputs": [
    {
     "data": {
      "text/plain": [
       "(12, 52, 27)"
      ]
     },
     "execution_count": 93,
     "metadata": {},
     "output_type": "execute_result"
    }
   ],
   "source": [
    "someday.month, someday.week, someday.day"
   ]
  },
  {
   "cell_type": "code",
   "execution_count": 94,
   "id": "c4e3343d-8de6-4381-bf33-a2db888438c4",
   "metadata": {},
   "outputs": [
    {
     "data": {
      "text/plain": [
       "(False, False)"
      ]
     },
     "execution_count": 94,
     "metadata": {},
     "output_type": "execute_result"
    }
   ],
   "source": [
    "someday.is_month_end, someday.is_quarter_start"
   ]
  },
  {
   "cell_type": "code",
   "execution_count": 96,
   "id": "e4b78778-cd3d-4edc-a009-3a66743de73f",
   "metadata": {},
   "outputs": [
    {
     "data": {
      "text/plain": [
       "('December', 'Tuesday')"
      ]
     },
     "execution_count": 96,
     "metadata": {},
     "output_type": "execute_result"
    }
   ],
   "source": [
    "someday.month_name(), someday.day_name()"
   ]
  },
  {
   "cell_type": "code",
   "execution_count": 97,
   "id": "9d559e3e-1911-4e7f-ad1f-336efebfc733",
   "metadata": {},
   "outputs": [
    {
     "data": {
      "text/plain": [
       "Index(['Monday', 'Tuesday', 'Wednesday', 'Thursday', 'Friday', 'Monday',\n",
       "       'Tuesday', 'Wednesday', 'Thursday', 'Friday',\n",
       "       ...\n",
       "       'Monday', 'Tuesday', 'Wednesday', 'Thursday', 'Friday', 'Monday',\n",
       "       'Tuesday', 'Wednesday', 'Thursday', 'Friday'],\n",
       "      dtype='object', name='Date', length=3300)"
      ]
     },
     "execution_count": 97,
     "metadata": {},
     "output_type": "execute_result"
    }
   ],
   "source": [
    "stocks.index.day_name()"
   ]
  },
  {
   "cell_type": "code",
   "execution_count": 99,
   "id": "3a75e539-4451-4d13-aba0-8eb7d263d0d2",
   "metadata": {},
   "outputs": [],
   "source": [
    "stocks.insert(0, 'Day of Week', stocks.index.day_name())"
   ]
  },
  {
   "cell_type": "code",
   "execution_count": 100,
   "id": "3c705935-8f19-4abd-acf8-b5269ebfdbf2",
   "metadata": {},
   "outputs": [
    {
     "data": {
      "text/html": [
       "<div>\n",
       "<style scoped>\n",
       "    .dataframe tbody tr th:only-of-type {\n",
       "        vertical-align: middle;\n",
       "    }\n",
       "\n",
       "    .dataframe tbody tr th {\n",
       "        vertical-align: top;\n",
       "    }\n",
       "\n",
       "    .dataframe thead th {\n",
       "        text-align: right;\n",
       "    }\n",
       "</style>\n",
       "<table border=\"1\" class=\"dataframe\">\n",
       "  <thead>\n",
       "    <tr style=\"text-align: right;\">\n",
       "      <th></th>\n",
       "      <th>Day of Week</th>\n",
       "      <th>Open</th>\n",
       "      <th>High</th>\n",
       "      <th>Low</th>\n",
       "      <th>Close</th>\n",
       "      <th>Adj Close</th>\n",
       "      <th>Volume</th>\n",
       "    </tr>\n",
       "    <tr>\n",
       "      <th>Date</th>\n",
       "      <th></th>\n",
       "      <th></th>\n",
       "      <th></th>\n",
       "      <th></th>\n",
       "      <th></th>\n",
       "      <th></th>\n",
       "      <th></th>\n",
       "    </tr>\n",
       "  </thead>\n",
       "  <tbody>\n",
       "    <tr>\n",
       "      <th>2010-01-04</th>\n",
       "      <td>Monday</td>\n",
       "      <td>30.620001</td>\n",
       "      <td>31.100000</td>\n",
       "      <td>30.590000</td>\n",
       "      <td>30.950001</td>\n",
       "      <td>23.683067</td>\n",
       "      <td>38409100</td>\n",
       "    </tr>\n",
       "    <tr>\n",
       "      <th>2010-01-05</th>\n",
       "      <td>Tuesday</td>\n",
       "      <td>30.850000</td>\n",
       "      <td>31.100000</td>\n",
       "      <td>30.639999</td>\n",
       "      <td>30.959999</td>\n",
       "      <td>23.690716</td>\n",
       "      <td>49749600</td>\n",
       "    </tr>\n",
       "    <tr>\n",
       "      <th>2010-01-06</th>\n",
       "      <td>Wednesday</td>\n",
       "      <td>30.879999</td>\n",
       "      <td>31.080000</td>\n",
       "      <td>30.520000</td>\n",
       "      <td>30.770000</td>\n",
       "      <td>23.545336</td>\n",
       "      <td>58182400</td>\n",
       "    </tr>\n",
       "    <tr>\n",
       "      <th>2010-01-07</th>\n",
       "      <td>Thursday</td>\n",
       "      <td>30.629999</td>\n",
       "      <td>30.700001</td>\n",
       "      <td>30.190001</td>\n",
       "      <td>30.450001</td>\n",
       "      <td>23.300470</td>\n",
       "      <td>50559700</td>\n",
       "    </tr>\n",
       "    <tr>\n",
       "      <th>2010-01-08</th>\n",
       "      <td>Friday</td>\n",
       "      <td>30.280001</td>\n",
       "      <td>30.879999</td>\n",
       "      <td>30.240000</td>\n",
       "      <td>30.660000</td>\n",
       "      <td>23.461157</td>\n",
       "      <td>51197400</td>\n",
       "    </tr>\n",
       "    <tr>\n",
       "      <th>...</th>\n",
       "      <td>...</td>\n",
       "      <td>...</td>\n",
       "      <td>...</td>\n",
       "      <td>...</td>\n",
       "      <td>...</td>\n",
       "      <td>...</td>\n",
       "      <td>...</td>\n",
       "    </tr>\n",
       "    <tr>\n",
       "      <th>2023-02-06</th>\n",
       "      <td>Monday</td>\n",
       "      <td>257.440002</td>\n",
       "      <td>258.299988</td>\n",
       "      <td>254.779999</td>\n",
       "      <td>256.769989</td>\n",
       "      <td>256.769989</td>\n",
       "      <td>22518000</td>\n",
       "    </tr>\n",
       "    <tr>\n",
       "      <th>2023-02-07</th>\n",
       "      <td>Tuesday</td>\n",
       "      <td>260.529999</td>\n",
       "      <td>268.769989</td>\n",
       "      <td>260.079987</td>\n",
       "      <td>267.559998</td>\n",
       "      <td>267.559998</td>\n",
       "      <td>50841400</td>\n",
       "    </tr>\n",
       "    <tr>\n",
       "      <th>2023-02-08</th>\n",
       "      <td>Wednesday</td>\n",
       "      <td>273.200012</td>\n",
       "      <td>276.760010</td>\n",
       "      <td>266.209991</td>\n",
       "      <td>266.730011</td>\n",
       "      <td>266.730011</td>\n",
       "      <td>54686000</td>\n",
       "    </tr>\n",
       "    <tr>\n",
       "      <th>2023-02-09</th>\n",
       "      <td>Thursday</td>\n",
       "      <td>273.799988</td>\n",
       "      <td>273.980011</td>\n",
       "      <td>262.799988</td>\n",
       "      <td>263.619995</td>\n",
       "      <td>263.619995</td>\n",
       "      <td>42375100</td>\n",
       "    </tr>\n",
       "    <tr>\n",
       "      <th>2023-02-10</th>\n",
       "      <td>Friday</td>\n",
       "      <td>261.529999</td>\n",
       "      <td>264.089996</td>\n",
       "      <td>260.660004</td>\n",
       "      <td>263.100006</td>\n",
       "      <td>263.100006</td>\n",
       "      <td>25760900</td>\n",
       "    </tr>\n",
       "  </tbody>\n",
       "</table>\n",
       "<p>3300 rows × 7 columns</p>\n",
       "</div>"
      ],
      "text/plain": [
       "           Day of Week        Open        High         Low       Close  \\\n",
       "Date                                                                     \n",
       "2010-01-04      Monday   30.620001   31.100000   30.590000   30.950001   \n",
       "2010-01-05     Tuesday   30.850000   31.100000   30.639999   30.959999   \n",
       "2010-01-06   Wednesday   30.879999   31.080000   30.520000   30.770000   \n",
       "2010-01-07    Thursday   30.629999   30.700001   30.190001   30.450001   \n",
       "2010-01-08      Friday   30.280001   30.879999   30.240000   30.660000   \n",
       "...                ...         ...         ...         ...         ...   \n",
       "2023-02-06      Monday  257.440002  258.299988  254.779999  256.769989   \n",
       "2023-02-07     Tuesday  260.529999  268.769989  260.079987  267.559998   \n",
       "2023-02-08   Wednesday  273.200012  276.760010  266.209991  266.730011   \n",
       "2023-02-09    Thursday  273.799988  273.980011  262.799988  263.619995   \n",
       "2023-02-10      Friday  261.529999  264.089996  260.660004  263.100006   \n",
       "\n",
       "             Adj Close    Volume  \n",
       "Date                              \n",
       "2010-01-04   23.683067  38409100  \n",
       "2010-01-05   23.690716  49749600  \n",
       "2010-01-06   23.545336  58182400  \n",
       "2010-01-07   23.300470  50559700  \n",
       "2010-01-08   23.461157  51197400  \n",
       "...                ...       ...  \n",
       "2023-02-06  256.769989  22518000  \n",
       "2023-02-07  267.559998  50841400  \n",
       "2023-02-08  266.730011  54686000  \n",
       "2023-02-09  263.619995  42375100  \n",
       "2023-02-10  263.100006  25760900  \n",
       "\n",
       "[3300 rows x 7 columns]"
      ]
     },
     "execution_count": 100,
     "metadata": {},
     "output_type": "execute_result"
    }
   ],
   "source": [
    "stocks"
   ]
  },
  {
   "cell_type": "code",
   "execution_count": 102,
   "id": "0a978e16-ef31-4c10-9888-4cfa9e61e309",
   "metadata": {},
   "outputs": [
    {
     "data": {
      "text/html": [
       "<div>\n",
       "<style scoped>\n",
       "    .dataframe tbody tr th:only-of-type {\n",
       "        vertical-align: middle;\n",
       "    }\n",
       "\n",
       "    .dataframe tbody tr th {\n",
       "        vertical-align: top;\n",
       "    }\n",
       "\n",
       "    .dataframe thead th {\n",
       "        text-align: right;\n",
       "    }\n",
       "</style>\n",
       "<table border=\"1\" class=\"dataframe\">\n",
       "  <thead>\n",
       "    <tr style=\"text-align: right;\">\n",
       "      <th></th>\n",
       "      <th>Day of Week</th>\n",
       "      <th>Is start of Month</th>\n",
       "      <th>Open</th>\n",
       "      <th>High</th>\n",
       "      <th>Low</th>\n",
       "      <th>Close</th>\n",
       "      <th>Adj Close</th>\n",
       "      <th>Volume</th>\n",
       "    </tr>\n",
       "    <tr>\n",
       "      <th>Date</th>\n",
       "      <th></th>\n",
       "      <th></th>\n",
       "      <th></th>\n",
       "      <th></th>\n",
       "      <th></th>\n",
       "      <th></th>\n",
       "      <th></th>\n",
       "      <th></th>\n",
       "    </tr>\n",
       "  </thead>\n",
       "  <tbody>\n",
       "    <tr>\n",
       "      <th>2010-01-04</th>\n",
       "      <td>Monday</td>\n",
       "      <td>False</td>\n",
       "      <td>30.620001</td>\n",
       "      <td>31.100000</td>\n",
       "      <td>30.590000</td>\n",
       "      <td>30.950001</td>\n",
       "      <td>23.683067</td>\n",
       "      <td>38409100</td>\n",
       "    </tr>\n",
       "    <tr>\n",
       "      <th>2010-01-05</th>\n",
       "      <td>Tuesday</td>\n",
       "      <td>False</td>\n",
       "      <td>30.850000</td>\n",
       "      <td>31.100000</td>\n",
       "      <td>30.639999</td>\n",
       "      <td>30.959999</td>\n",
       "      <td>23.690716</td>\n",
       "      <td>49749600</td>\n",
       "    </tr>\n",
       "    <tr>\n",
       "      <th>2010-01-06</th>\n",
       "      <td>Wednesday</td>\n",
       "      <td>False</td>\n",
       "      <td>30.879999</td>\n",
       "      <td>31.080000</td>\n",
       "      <td>30.520000</td>\n",
       "      <td>30.770000</td>\n",
       "      <td>23.545336</td>\n",
       "      <td>58182400</td>\n",
       "    </tr>\n",
       "    <tr>\n",
       "      <th>2010-01-07</th>\n",
       "      <td>Thursday</td>\n",
       "      <td>False</td>\n",
       "      <td>30.629999</td>\n",
       "      <td>30.700001</td>\n",
       "      <td>30.190001</td>\n",
       "      <td>30.450001</td>\n",
       "      <td>23.300470</td>\n",
       "      <td>50559700</td>\n",
       "    </tr>\n",
       "    <tr>\n",
       "      <th>2010-01-08</th>\n",
       "      <td>Friday</td>\n",
       "      <td>False</td>\n",
       "      <td>30.280001</td>\n",
       "      <td>30.879999</td>\n",
       "      <td>30.240000</td>\n",
       "      <td>30.660000</td>\n",
       "      <td>23.461157</td>\n",
       "      <td>51197400</td>\n",
       "    </tr>\n",
       "    <tr>\n",
       "      <th>...</th>\n",
       "      <td>...</td>\n",
       "      <td>...</td>\n",
       "      <td>...</td>\n",
       "      <td>...</td>\n",
       "      <td>...</td>\n",
       "      <td>...</td>\n",
       "      <td>...</td>\n",
       "      <td>...</td>\n",
       "    </tr>\n",
       "    <tr>\n",
       "      <th>2023-02-06</th>\n",
       "      <td>Monday</td>\n",
       "      <td>False</td>\n",
       "      <td>257.440002</td>\n",
       "      <td>258.299988</td>\n",
       "      <td>254.779999</td>\n",
       "      <td>256.769989</td>\n",
       "      <td>256.769989</td>\n",
       "      <td>22518000</td>\n",
       "    </tr>\n",
       "    <tr>\n",
       "      <th>2023-02-07</th>\n",
       "      <td>Tuesday</td>\n",
       "      <td>False</td>\n",
       "      <td>260.529999</td>\n",
       "      <td>268.769989</td>\n",
       "      <td>260.079987</td>\n",
       "      <td>267.559998</td>\n",
       "      <td>267.559998</td>\n",
       "      <td>50841400</td>\n",
       "    </tr>\n",
       "    <tr>\n",
       "      <th>2023-02-08</th>\n",
       "      <td>Wednesday</td>\n",
       "      <td>False</td>\n",
       "      <td>273.200012</td>\n",
       "      <td>276.760010</td>\n",
       "      <td>266.209991</td>\n",
       "      <td>266.730011</td>\n",
       "      <td>266.730011</td>\n",
       "      <td>54686000</td>\n",
       "    </tr>\n",
       "    <tr>\n",
       "      <th>2023-02-09</th>\n",
       "      <td>Thursday</td>\n",
       "      <td>False</td>\n",
       "      <td>273.799988</td>\n",
       "      <td>273.980011</td>\n",
       "      <td>262.799988</td>\n",
       "      <td>263.619995</td>\n",
       "      <td>263.619995</td>\n",
       "      <td>42375100</td>\n",
       "    </tr>\n",
       "    <tr>\n",
       "      <th>2023-02-10</th>\n",
       "      <td>Friday</td>\n",
       "      <td>False</td>\n",
       "      <td>261.529999</td>\n",
       "      <td>264.089996</td>\n",
       "      <td>260.660004</td>\n",
       "      <td>263.100006</td>\n",
       "      <td>263.100006</td>\n",
       "      <td>25760900</td>\n",
       "    </tr>\n",
       "  </tbody>\n",
       "</table>\n",
       "<p>3300 rows × 8 columns</p>\n",
       "</div>"
      ],
      "text/plain": [
       "           Day of Week  Is start of Month        Open        High         Low  \\\n",
       "Date                                                                            \n",
       "2010-01-04      Monday              False   30.620001   31.100000   30.590000   \n",
       "2010-01-05     Tuesday              False   30.850000   31.100000   30.639999   \n",
       "2010-01-06   Wednesday              False   30.879999   31.080000   30.520000   \n",
       "2010-01-07    Thursday              False   30.629999   30.700001   30.190001   \n",
       "2010-01-08      Friday              False   30.280001   30.879999   30.240000   \n",
       "...                ...                ...         ...         ...         ...   \n",
       "2023-02-06      Monday              False  257.440002  258.299988  254.779999   \n",
       "2023-02-07     Tuesday              False  260.529999  268.769989  260.079987   \n",
       "2023-02-08   Wednesday              False  273.200012  276.760010  266.209991   \n",
       "2023-02-09    Thursday              False  273.799988  273.980011  262.799988   \n",
       "2023-02-10      Friday              False  261.529999  264.089996  260.660004   \n",
       "\n",
       "                 Close   Adj Close    Volume  \n",
       "Date                                          \n",
       "2010-01-04   30.950001   23.683067  38409100  \n",
       "2010-01-05   30.959999   23.690716  49749600  \n",
       "2010-01-06   30.770000   23.545336  58182400  \n",
       "2010-01-07   30.450001   23.300470  50559700  \n",
       "2010-01-08   30.660000   23.461157  51197400  \n",
       "...                ...         ...       ...  \n",
       "2023-02-06  256.769989  256.769989  22518000  \n",
       "2023-02-07  267.559998  267.559998  50841400  \n",
       "2023-02-08  266.730011  266.730011  54686000  \n",
       "2023-02-09  263.619995  263.619995  42375100  \n",
       "2023-02-10  263.100006  263.100006  25760900  \n",
       "\n",
       "[3300 rows x 8 columns]"
      ]
     },
     "execution_count": 102,
     "metadata": {},
     "output_type": "execute_result"
    }
   ],
   "source": [
    "stocks.insert(1, 'Is start of Month', stocks.index.is_month_start)\n",
    "stocks"
   ]
  },
  {
   "cell_type": "code",
   "execution_count": 103,
   "id": "d9940572-a2ec-4303-9e1d-3e1def573b58",
   "metadata": {},
   "outputs": [
    {
     "data": {
      "text/html": [
       "<div>\n",
       "<style scoped>\n",
       "    .dataframe tbody tr th:only-of-type {\n",
       "        vertical-align: middle;\n",
       "    }\n",
       "\n",
       "    .dataframe tbody tr th {\n",
       "        vertical-align: top;\n",
       "    }\n",
       "\n",
       "    .dataframe thead th {\n",
       "        text-align: right;\n",
       "    }\n",
       "</style>\n",
       "<table border=\"1\" class=\"dataframe\">\n",
       "  <thead>\n",
       "    <tr style=\"text-align: right;\">\n",
       "      <th></th>\n",
       "      <th>Day of Week</th>\n",
       "      <th>Is start of Month</th>\n",
       "      <th>Open</th>\n",
       "      <th>High</th>\n",
       "      <th>Low</th>\n",
       "      <th>Close</th>\n",
       "      <th>Adj Close</th>\n",
       "      <th>Volume</th>\n",
       "    </tr>\n",
       "    <tr>\n",
       "      <th>Date</th>\n",
       "      <th></th>\n",
       "      <th></th>\n",
       "      <th></th>\n",
       "      <th></th>\n",
       "      <th></th>\n",
       "      <th></th>\n",
       "      <th></th>\n",
       "      <th></th>\n",
       "    </tr>\n",
       "  </thead>\n",
       "  <tbody>\n",
       "    <tr>\n",
       "      <th>2010-02-01</th>\n",
       "      <td>Monday</td>\n",
       "      <td>True</td>\n",
       "      <td>28.389999</td>\n",
       "      <td>28.480000</td>\n",
       "      <td>27.920000</td>\n",
       "      <td>28.410000</td>\n",
       "      <td>21.739449</td>\n",
       "      <td>85931100</td>\n",
       "    </tr>\n",
       "    <tr>\n",
       "      <th>2010-03-01</th>\n",
       "      <td>Monday</td>\n",
       "      <td>True</td>\n",
       "      <td>28.770000</td>\n",
       "      <td>29.049999</td>\n",
       "      <td>28.530001</td>\n",
       "      <td>29.020000</td>\n",
       "      <td>22.310070</td>\n",
       "      <td>43805400</td>\n",
       "    </tr>\n",
       "    <tr>\n",
       "      <th>2010-04-01</th>\n",
       "      <td>Thursday</td>\n",
       "      <td>True</td>\n",
       "      <td>29.350000</td>\n",
       "      <td>29.540001</td>\n",
       "      <td>28.620001</td>\n",
       "      <td>29.160000</td>\n",
       "      <td>22.417702</td>\n",
       "      <td>74768100</td>\n",
       "    </tr>\n",
       "    <tr>\n",
       "      <th>2010-06-01</th>\n",
       "      <td>Tuesday</td>\n",
       "      <td>True</td>\n",
       "      <td>25.530001</td>\n",
       "      <td>26.309999</td>\n",
       "      <td>25.520000</td>\n",
       "      <td>25.889999</td>\n",
       "      <td>19.993589</td>\n",
       "      <td>76152400</td>\n",
       "    </tr>\n",
       "    <tr>\n",
       "      <th>2010-07-01</th>\n",
       "      <td>Thursday</td>\n",
       "      <td>True</td>\n",
       "      <td>23.090000</td>\n",
       "      <td>23.320000</td>\n",
       "      <td>22.730000</td>\n",
       "      <td>23.160000</td>\n",
       "      <td>17.885347</td>\n",
       "      <td>92239400</td>\n",
       "    </tr>\n",
       "    <tr>\n",
       "      <th>...</th>\n",
       "      <td>...</td>\n",
       "      <td>...</td>\n",
       "      <td>...</td>\n",
       "      <td>...</td>\n",
       "      <td>...</td>\n",
       "      <td>...</td>\n",
       "      <td>...</td>\n",
       "      <td>...</td>\n",
       "    </tr>\n",
       "    <tr>\n",
       "      <th>2022-08-01</th>\n",
       "      <td>Monday</td>\n",
       "      <td>True</td>\n",
       "      <td>277.820007</td>\n",
       "      <td>281.279999</td>\n",
       "      <td>275.839996</td>\n",
       "      <td>278.010010</td>\n",
       "      <td>276.641510</td>\n",
       "      <td>21539600</td>\n",
       "    </tr>\n",
       "    <tr>\n",
       "      <th>2022-09-01</th>\n",
       "      <td>Thursday</td>\n",
       "      <td>True</td>\n",
       "      <td>258.869995</td>\n",
       "      <td>260.890015</td>\n",
       "      <td>255.410004</td>\n",
       "      <td>260.399994</td>\n",
       "      <td>259.668213</td>\n",
       "      <td>23263400</td>\n",
       "    </tr>\n",
       "    <tr>\n",
       "      <th>2022-11-01</th>\n",
       "      <td>Tuesday</td>\n",
       "      <td>True</td>\n",
       "      <td>234.600006</td>\n",
       "      <td>235.740005</td>\n",
       "      <td>227.330002</td>\n",
       "      <td>228.169998</td>\n",
       "      <td>227.528793</td>\n",
       "      <td>30592300</td>\n",
       "    </tr>\n",
       "    <tr>\n",
       "      <th>2022-12-01</th>\n",
       "      <td>Thursday</td>\n",
       "      <td>True</td>\n",
       "      <td>253.869995</td>\n",
       "      <td>256.119995</td>\n",
       "      <td>250.919998</td>\n",
       "      <td>254.690002</td>\n",
       "      <td>254.690002</td>\n",
       "      <td>26041500</td>\n",
       "    </tr>\n",
       "    <tr>\n",
       "      <th>2023-02-01</th>\n",
       "      <td>Wednesday</td>\n",
       "      <td>True</td>\n",
       "      <td>248.000000</td>\n",
       "      <td>255.179993</td>\n",
       "      <td>245.470001</td>\n",
       "      <td>252.750000</td>\n",
       "      <td>252.750000</td>\n",
       "      <td>31259900</td>\n",
       "    </tr>\n",
       "  </tbody>\n",
       "</table>\n",
       "<p>104 rows × 8 columns</p>\n",
       "</div>"
      ],
      "text/plain": [
       "           Day of Week  Is start of Month        Open        High         Low  \\\n",
       "Date                                                                            \n",
       "2010-02-01      Monday               True   28.389999   28.480000   27.920000   \n",
       "2010-03-01      Monday               True   28.770000   29.049999   28.530001   \n",
       "2010-04-01    Thursday               True   29.350000   29.540001   28.620001   \n",
       "2010-06-01     Tuesday               True   25.530001   26.309999   25.520000   \n",
       "2010-07-01    Thursday               True   23.090000   23.320000   22.730000   \n",
       "...                ...                ...         ...         ...         ...   \n",
       "2022-08-01      Monday               True  277.820007  281.279999  275.839996   \n",
       "2022-09-01    Thursday               True  258.869995  260.890015  255.410004   \n",
       "2022-11-01     Tuesday               True  234.600006  235.740005  227.330002   \n",
       "2022-12-01    Thursday               True  253.869995  256.119995  250.919998   \n",
       "2023-02-01   Wednesday               True  248.000000  255.179993  245.470001   \n",
       "\n",
       "                 Close   Adj Close    Volume  \n",
       "Date                                          \n",
       "2010-02-01   28.410000   21.739449  85931100  \n",
       "2010-03-01   29.020000   22.310070  43805400  \n",
       "2010-04-01   29.160000   22.417702  74768100  \n",
       "2010-06-01   25.889999   19.993589  76152400  \n",
       "2010-07-01   23.160000   17.885347  92239400  \n",
       "...                ...         ...       ...  \n",
       "2022-08-01  278.010010  276.641510  21539600  \n",
       "2022-09-01  260.399994  259.668213  23263400  \n",
       "2022-11-01  228.169998  227.528793  30592300  \n",
       "2022-12-01  254.690002  254.690002  26041500  \n",
       "2023-02-01  252.750000  252.750000  31259900  \n",
       "\n",
       "[104 rows x 8 columns]"
      ]
     },
     "execution_count": 103,
     "metadata": {},
     "output_type": "execute_result"
    }
   ],
   "source": [
    "stocks.loc[stocks['Is start of Month']]"
   ]
  },
  {
   "cell_type": "markdown",
   "id": "b59891f5-6656-4853-9e7b-6365d503eaae",
   "metadata": {},
   "source": [
    "# pd.DateOffset Obj"
   ]
  },
  {
   "cell_type": "code",
   "execution_count": 106,
   "id": "ddaaf31c-25a8-49b7-98b8-919316bb9c26",
   "metadata": {},
   "outputs": [
    {
     "data": {
      "text/html": [
       "<div>\n",
       "<style scoped>\n",
       "    .dataframe tbody tr th:only-of-type {\n",
       "        vertical-align: middle;\n",
       "    }\n",
       "\n",
       "    .dataframe tbody tr th {\n",
       "        vertical-align: top;\n",
       "    }\n",
       "\n",
       "    .dataframe thead th {\n",
       "        text-align: right;\n",
       "    }\n",
       "</style>\n",
       "<table border=\"1\" class=\"dataframe\">\n",
       "  <thead>\n",
       "    <tr style=\"text-align: right;\">\n",
       "      <th></th>\n",
       "      <th>Day of Week</th>\n",
       "      <th>Is start of Month</th>\n",
       "      <th>Open</th>\n",
       "      <th>High</th>\n",
       "      <th>Low</th>\n",
       "      <th>Close</th>\n",
       "      <th>Adj Close</th>\n",
       "      <th>Volume</th>\n",
       "    </tr>\n",
       "    <tr>\n",
       "      <th>Date</th>\n",
       "      <th></th>\n",
       "      <th></th>\n",
       "      <th></th>\n",
       "      <th></th>\n",
       "      <th></th>\n",
       "      <th></th>\n",
       "      <th></th>\n",
       "      <th></th>\n",
       "    </tr>\n",
       "  </thead>\n",
       "  <tbody>\n",
       "    <tr>\n",
       "      <th>2010-01-09</th>\n",
       "      <td>Monday</td>\n",
       "      <td>False</td>\n",
       "      <td>30.620001</td>\n",
       "      <td>31.100000</td>\n",
       "      <td>30.590000</td>\n",
       "      <td>30.950001</td>\n",
       "      <td>23.683067</td>\n",
       "      <td>38409100</td>\n",
       "    </tr>\n",
       "    <tr>\n",
       "      <th>2010-01-10</th>\n",
       "      <td>Tuesday</td>\n",
       "      <td>False</td>\n",
       "      <td>30.850000</td>\n",
       "      <td>31.100000</td>\n",
       "      <td>30.639999</td>\n",
       "      <td>30.959999</td>\n",
       "      <td>23.690716</td>\n",
       "      <td>49749600</td>\n",
       "    </tr>\n",
       "    <tr>\n",
       "      <th>2010-01-11</th>\n",
       "      <td>Wednesday</td>\n",
       "      <td>False</td>\n",
       "      <td>30.879999</td>\n",
       "      <td>31.080000</td>\n",
       "      <td>30.520000</td>\n",
       "      <td>30.770000</td>\n",
       "      <td>23.545336</td>\n",
       "      <td>58182400</td>\n",
       "    </tr>\n",
       "    <tr>\n",
       "      <th>2010-01-12</th>\n",
       "      <td>Thursday</td>\n",
       "      <td>False</td>\n",
       "      <td>30.629999</td>\n",
       "      <td>30.700001</td>\n",
       "      <td>30.190001</td>\n",
       "      <td>30.450001</td>\n",
       "      <td>23.300470</td>\n",
       "      <td>50559700</td>\n",
       "    </tr>\n",
       "    <tr>\n",
       "      <th>2010-01-13</th>\n",
       "      <td>Friday</td>\n",
       "      <td>False</td>\n",
       "      <td>30.280001</td>\n",
       "      <td>30.879999</td>\n",
       "      <td>30.240000</td>\n",
       "      <td>30.660000</td>\n",
       "      <td>23.461157</td>\n",
       "      <td>51197400</td>\n",
       "    </tr>\n",
       "    <tr>\n",
       "      <th>...</th>\n",
       "      <td>...</td>\n",
       "      <td>...</td>\n",
       "      <td>...</td>\n",
       "      <td>...</td>\n",
       "      <td>...</td>\n",
       "      <td>...</td>\n",
       "      <td>...</td>\n",
       "      <td>...</td>\n",
       "    </tr>\n",
       "    <tr>\n",
       "      <th>2023-02-11</th>\n",
       "      <td>Monday</td>\n",
       "      <td>False</td>\n",
       "      <td>257.440002</td>\n",
       "      <td>258.299988</td>\n",
       "      <td>254.779999</td>\n",
       "      <td>256.769989</td>\n",
       "      <td>256.769989</td>\n",
       "      <td>22518000</td>\n",
       "    </tr>\n",
       "    <tr>\n",
       "      <th>2023-02-12</th>\n",
       "      <td>Tuesday</td>\n",
       "      <td>False</td>\n",
       "      <td>260.529999</td>\n",
       "      <td>268.769989</td>\n",
       "      <td>260.079987</td>\n",
       "      <td>267.559998</td>\n",
       "      <td>267.559998</td>\n",
       "      <td>50841400</td>\n",
       "    </tr>\n",
       "    <tr>\n",
       "      <th>2023-02-13</th>\n",
       "      <td>Wednesday</td>\n",
       "      <td>False</td>\n",
       "      <td>273.200012</td>\n",
       "      <td>276.760010</td>\n",
       "      <td>266.209991</td>\n",
       "      <td>266.730011</td>\n",
       "      <td>266.730011</td>\n",
       "      <td>54686000</td>\n",
       "    </tr>\n",
       "    <tr>\n",
       "      <th>2023-02-14</th>\n",
       "      <td>Thursday</td>\n",
       "      <td>False</td>\n",
       "      <td>273.799988</td>\n",
       "      <td>273.980011</td>\n",
       "      <td>262.799988</td>\n",
       "      <td>263.619995</td>\n",
       "      <td>263.619995</td>\n",
       "      <td>42375100</td>\n",
       "    </tr>\n",
       "    <tr>\n",
       "      <th>2023-02-15</th>\n",
       "      <td>Friday</td>\n",
       "      <td>False</td>\n",
       "      <td>261.529999</td>\n",
       "      <td>264.089996</td>\n",
       "      <td>260.660004</td>\n",
       "      <td>263.100006</td>\n",
       "      <td>263.100006</td>\n",
       "      <td>25760900</td>\n",
       "    </tr>\n",
       "  </tbody>\n",
       "</table>\n",
       "<p>3300 rows × 8 columns</p>\n",
       "</div>"
      ],
      "text/plain": [
       "           Day of Week  Is start of Month        Open        High         Low  \\\n",
       "Date                                                                            \n",
       "2010-01-09      Monday              False   30.620001   31.100000   30.590000   \n",
       "2010-01-10     Tuesday              False   30.850000   31.100000   30.639999   \n",
       "2010-01-11   Wednesday              False   30.879999   31.080000   30.520000   \n",
       "2010-01-12    Thursday              False   30.629999   30.700001   30.190001   \n",
       "2010-01-13      Friday              False   30.280001   30.879999   30.240000   \n",
       "...                ...                ...         ...         ...         ...   \n",
       "2023-02-11      Monday              False  257.440002  258.299988  254.779999   \n",
       "2023-02-12     Tuesday              False  260.529999  268.769989  260.079987   \n",
       "2023-02-13   Wednesday              False  273.200012  276.760010  266.209991   \n",
       "2023-02-14    Thursday              False  273.799988  273.980011  262.799988   \n",
       "2023-02-15      Friday              False  261.529999  264.089996  260.660004   \n",
       "\n",
       "                 Close   Adj Close    Volume  \n",
       "Date                                          \n",
       "2010-01-09   30.950001   23.683067  38409100  \n",
       "2010-01-10   30.959999   23.690716  49749600  \n",
       "2010-01-11   30.770000   23.545336  58182400  \n",
       "2010-01-12   30.450001   23.300470  50559700  \n",
       "2010-01-13   30.660000   23.461157  51197400  \n",
       "...                ...         ...       ...  \n",
       "2023-02-11  256.769989  256.769989  22518000  \n",
       "2023-02-12  267.559998  267.559998  50841400  \n",
       "2023-02-13  266.730011  266.730011  54686000  \n",
       "2023-02-14  263.619995  263.619995  42375100  \n",
       "2023-02-15  263.100006  263.100006  25760900  \n",
       "\n",
       "[3300 rows x 8 columns]"
      ]
     },
     "execution_count": 106,
     "metadata": {},
     "output_type": "execute_result"
    }
   ],
   "source": [
    "stocks.index += pd.DateOffset(days=5)\n",
    "stocks"
   ]
  },
  {
   "cell_type": "code",
   "execution_count": 107,
   "id": "fbe1d066-1024-44b9-bd86-37888b11ab23",
   "metadata": {},
   "outputs": [],
   "source": [
    "stocks.index -= pd.DateOffset(days=5)"
   ]
  },
  {
   "cell_type": "code",
   "execution_count": 108,
   "id": "a507e66f-01ec-4e42-857f-3f61294d4f3a",
   "metadata": {},
   "outputs": [
    {
     "data": {
      "text/plain": [
       "DatetimeIndex(['2010-01-18', '2010-01-19', '2010-01-20', '2010-01-21',\n",
       "               '2010-01-22', '2010-01-25', '2010-01-26', '2010-01-27',\n",
       "               '2010-01-28', '2010-01-29',\n",
       "               ...\n",
       "               '2023-02-13', '2023-02-14', '2023-02-15', '2023-02-16',\n",
       "               '2023-02-17', '2023-02-20', '2023-02-21', '2023-02-22',\n",
       "               '2023-02-23', '2023-02-24'],\n",
       "              dtype='datetime64[ns]', name='Date', length=3300, freq=None)"
      ]
     },
     "execution_count": 108,
     "metadata": {},
     "output_type": "execute_result"
    }
   ],
   "source": [
    "stocks.index + pd.DateOffset(weeks=2)"
   ]
  },
  {
   "cell_type": "code",
   "execution_count": 109,
   "id": "03ca7153-3e42-41b8-9cbe-e1ce129be2e6",
   "metadata": {},
   "outputs": [
    {
     "data": {
      "text/plain": [
       "DatetimeIndex(['2011-04-14 06:00:00', '2011-04-15 06:00:00',\n",
       "               '2011-04-16 06:00:00', '2011-04-17 06:00:00',\n",
       "               '2011-04-18 06:00:00', '2011-04-21 06:00:00',\n",
       "               '2011-04-22 06:00:00', '2011-04-23 06:00:00',\n",
       "               '2011-04-24 06:00:00', '2011-04-25 06:00:00',\n",
       "               ...\n",
       "               '2024-05-10 06:00:00', '2024-05-10 06:00:00',\n",
       "               '2024-05-11 06:00:00', '2024-05-12 06:00:00',\n",
       "               '2024-05-13 06:00:00', '2024-05-16 06:00:00',\n",
       "               '2024-05-17 06:00:00', '2024-05-18 06:00:00',\n",
       "               '2024-05-19 06:00:00', '2024-05-20 06:00:00'],\n",
       "              dtype='datetime64[ns]', name='Date', length=3300, freq=None)"
      ]
     },
     "execution_count": 109,
     "metadata": {},
     "output_type": "execute_result"
    }
   ],
   "source": [
    "stocks.index + pd.DateOffset(years=1, months=3, days=10, hours=6)"
   ]
  },
  {
   "cell_type": "markdown",
   "id": "65ad33ca-11d5-4d47-8c9a-04491e4a212b",
   "metadata": {},
   "source": [
    "# timeseries offsets"
   ]
  },
  {
   "cell_type": "code",
   "execution_count": 112,
   "id": "0c6f9f91-f078-4265-8396-c055a0aac39a",
   "metadata": {},
   "outputs": [
    {
     "data": {
      "text/plain": [
       "DatetimeIndex(['2010-01-31', '2010-01-31', '2010-01-31', '2010-01-31',\n",
       "               '2010-01-31', '2010-01-31', '2010-01-31', '2010-01-31',\n",
       "               '2010-01-31', '2010-01-31',\n",
       "               ...\n",
       "               '2023-01-31', '2023-02-28', '2023-02-28', '2023-02-28',\n",
       "               '2023-02-28', '2023-02-28', '2023-02-28', '2023-02-28',\n",
       "               '2023-02-28', '2023-02-28'],\n",
       "              dtype='datetime64[ns]', name='Date', length=3300, freq=None)"
      ]
     },
     "execution_count": 112,
     "metadata": {},
     "output_type": "execute_result"
    }
   ],
   "source": [
    "stocks.index + pd.tseries.offsets.MonthEnd()"
   ]
  },
  {
   "cell_type": "code",
   "execution_count": 115,
   "id": "6cd86f82-a34c-4971-bad2-86c02be8edd4",
   "metadata": {},
   "outputs": [
    {
     "data": {
      "text/plain": [
       "DatetimeIndex(['2009-12-31', '2009-12-31', '2009-12-31', '2009-12-31',\n",
       "               '2009-12-31', '2009-12-31', '2009-12-31', '2009-12-31',\n",
       "               '2009-12-31', '2009-12-31',\n",
       "               ...\n",
       "               '2022-12-31', '2022-12-31', '2023-01-31', '2023-01-31',\n",
       "               '2023-01-31', '2023-01-31', '2023-01-31', '2023-01-31',\n",
       "               '2023-01-31', '2023-01-31'],\n",
       "              dtype='datetime64[ns]', name='Date', length=3300, freq=None)"
      ]
     },
     "execution_count": 115,
     "metadata": {},
     "output_type": "execute_result"
    }
   ],
   "source": [
    "stocks.index - pd.tseries.offsets.MonthEnd()"
   ]
  },
  {
   "cell_type": "code",
   "execution_count": 116,
   "id": "6040becc-1403-4d53-809d-88e5c06b91cd",
   "metadata": {},
   "outputs": [
    {
     "data": {
      "text/plain": [
       "DatetimeIndex(['2010-02-01', '2010-02-01', '2010-02-01', '2010-02-01',\n",
       "               '2010-02-01', '2010-02-01', '2010-02-01', '2010-02-01',\n",
       "               '2010-02-01', '2010-02-01',\n",
       "               ...\n",
       "               '2023-02-01', '2023-02-01', '2023-03-01', '2023-03-01',\n",
       "               '2023-03-01', '2023-03-01', '2023-03-01', '2023-03-01',\n",
       "               '2023-03-01', '2023-03-01'],\n",
       "              dtype='datetime64[ns]', name='Date', length=3300, freq=None)"
      ]
     },
     "execution_count": 116,
     "metadata": {},
     "output_type": "execute_result"
    }
   ],
   "source": [
    "stocks.index + pd.tseries.offsets.MonthBegin()"
   ]
  },
  {
   "cell_type": "code",
   "execution_count": 117,
   "id": "7ac453a5-6c2c-4786-97b0-3fb5d93a9eba",
   "metadata": {},
   "outputs": [],
   "source": [
    "from pandas.tseries import offsets"
   ]
  },
  {
   "cell_type": "code",
   "execution_count": 119,
   "id": "1d163b16-c2f5-478c-a065-7d0830d388a1",
   "metadata": {},
   "outputs": [
    {
     "data": {
      "text/plain": [
       "DatetimeIndex(['2010-01-29', '2010-01-29', '2010-01-29', '2010-01-29',\n",
       "               '2010-01-29', '2010-01-29', '2010-01-29', '2010-01-29',\n",
       "               '2010-01-29', '2010-01-29',\n",
       "               ...\n",
       "               '2023-01-31', '2023-02-28', '2023-02-28', '2023-02-28',\n",
       "               '2023-02-28', '2023-02-28', '2023-02-28', '2023-02-28',\n",
       "               '2023-02-28', '2023-02-28'],\n",
       "              dtype='datetime64[ns]', name='Date', length=3300, freq=None)"
      ]
     },
     "execution_count": 119,
     "metadata": {},
     "output_type": "execute_result"
    }
   ],
   "source": [
    "stocks.index + offsets.BMonthEnd()"
   ]
  },
  {
   "cell_type": "code",
   "execution_count": 120,
   "id": "c60886f1-9131-46f5-8f66-eb38bf1cef72",
   "metadata": {},
   "outputs": [
    {
     "data": {
      "text/plain": [
       "DatetimeIndex(['2009-12-31', '2009-12-31', '2009-12-31', '2009-12-31',\n",
       "               '2009-12-31', '2009-12-31', '2009-12-31', '2009-12-31',\n",
       "               '2009-12-31', '2009-12-31',\n",
       "               ...\n",
       "               '2022-12-30', '2022-12-30', '2023-01-31', '2023-01-31',\n",
       "               '2023-01-31', '2023-01-31', '2023-01-31', '2023-01-31',\n",
       "               '2023-01-31', '2023-01-31'],\n",
       "              dtype='datetime64[ns]', name='Date', length=3300, freq=None)"
      ]
     },
     "execution_count": 120,
     "metadata": {},
     "output_type": "execute_result"
    }
   ],
   "source": [
    "stocks.index - offsets.BMonthEnd()"
   ]
  },
  {
   "cell_type": "code",
   "execution_count": 121,
   "id": "b6771c2b-5016-48c2-b190-48490d25fc8e",
   "metadata": {},
   "outputs": [
    {
     "data": {
      "text/plain": [
       "DatetimeIndex(['2010-12-31', '2010-12-31', '2010-12-31', '2010-12-31',\n",
       "               '2010-12-31', '2010-12-31', '2010-12-31', '2010-12-31',\n",
       "               '2010-12-31', '2010-12-31',\n",
       "               ...\n",
       "               '2023-12-31', '2023-12-31', '2023-12-31', '2023-12-31',\n",
       "               '2023-12-31', '2023-12-31', '2023-12-31', '2023-12-31',\n",
       "               '2023-12-31', '2023-12-31'],\n",
       "              dtype='datetime64[ns]', name='Date', length=3300, freq=None)"
      ]
     },
     "execution_count": 121,
     "metadata": {},
     "output_type": "execute_result"
    }
   ],
   "source": [
    "stocks.index + offsets.YearEnd()"
   ]
  },
  {
   "cell_type": "markdown",
   "id": "8e4dad10-ea6c-4a3b-996a-cbc794952d3b",
   "metadata": {},
   "source": [
    "# Timedelta"
   ]
  },
  {
   "cell_type": "code",
   "execution_count": 124,
   "id": "c3b3069a-adea-4f8a-bde1-7ffa9565f755",
   "metadata": {},
   "outputs": [
    {
     "data": {
      "text/plain": [
       "Timedelta('3 days 14:19:27')"
      ]
     },
     "execution_count": 124,
     "metadata": {},
     "output_type": "execute_result"
    }
   ],
   "source": [
    "time1 = pd.Timestamp('2023-02-13 04:35:16pm')\n",
    "time2 = pd.Timestamp('2023-02-10 02:15:49am')\n",
    "time1 - time2"
   ]
  },
  {
   "cell_type": "code",
   "execution_count": 125,
   "id": "3ec070bd-5253-4ed6-b5eb-fa92cbc16f58",
   "metadata": {},
   "outputs": [
    {
     "data": {
      "text/plain": [
       "Timedelta('-4 days +09:40:33')"
      ]
     },
     "execution_count": 125,
     "metadata": {},
     "output_type": "execute_result"
    }
   ],
   "source": [
    "time2 - time1"
   ]
  },
  {
   "cell_type": "code",
   "execution_count": 126,
   "id": "8fe5162a-f899-4aa0-91df-08519baea3a3",
   "metadata": {},
   "outputs": [
    {
     "data": {
      "text/plain": [
       "Timedelta('3 days 00:00:00')"
      ]
     },
     "execution_count": 126,
     "metadata": {},
     "output_type": "execute_result"
    }
   ],
   "source": [
    "pd.Timedelta(days=3)"
   ]
  },
  {
   "cell_type": "code",
   "execution_count": 127,
   "id": "7c33501a-b0ed-4f09-b433-7aa5ab093e8f",
   "metadata": {},
   "outputs": [
    {
     "data": {
      "text/plain": [
       "Timestamp('2023-02-16 16:35:16')"
      ]
     },
     "execution_count": 127,
     "metadata": {},
     "output_type": "execute_result"
    }
   ],
   "source": [
    "time1 + pd.Timedelta(days=3)"
   ]
  },
  {
   "cell_type": "code",
   "execution_count": 129,
   "id": "3571895c-9e13-4825-a474-4a8d034bea95",
   "metadata": {},
   "outputs": [
    {
     "data": {
      "text/plain": [
       "Timedelta('59 days 12:45:00')"
      ]
     },
     "execution_count": 129,
     "metadata": {},
     "output_type": "execute_result"
    }
   ],
   "source": [
    "pd.Timedelta(weeks=8, days=3, hours=12, minutes=45)"
   ]
  },
  {
   "cell_type": "code",
   "execution_count": 133,
   "id": "c3dc2465-d306-46ff-9ddf-d78686fa198b",
   "metadata": {},
   "outputs": [],
   "source": [
    "# year, month not support as there is variation\n",
    "# pd.Timedelta(months=1)\n",
    "# pd.Timedelta(years=1)"
   ]
  },
  {
   "cell_type": "code",
   "execution_count": 135,
   "id": "b2b8924a-2c4e-4baf-9aba-e3a959ca5360",
   "metadata": {},
   "outputs": [
    {
     "data": {
      "text/plain": [
       "Timedelta('0 days 06:05:00')"
      ]
     },
     "execution_count": 135,
     "metadata": {},
     "output_type": "execute_result"
    }
   ],
   "source": [
    "pd.Timedelta('6 hours 5 minutes')"
   ]
  },
  {
   "cell_type": "markdown",
   "id": "05c3930d-5b99-4ddd-8e69-9bef4abaa823",
   "metadata": {},
   "source": [
    "# timedeltas in a dataset"
   ]
  },
  {
   "cell_type": "code",
   "execution_count": 142,
   "id": "f331d03e-a9b3-430a-8746-003696f254ed",
   "metadata": {},
   "outputs": [
    {
     "data": {
      "text/html": [
       "<div>\n",
       "<style scoped>\n",
       "    .dataframe tbody tr th:only-of-type {\n",
       "        vertical-align: middle;\n",
       "    }\n",
       "\n",
       "    .dataframe tbody tr th {\n",
       "        vertical-align: top;\n",
       "    }\n",
       "\n",
       "    .dataframe thead th {\n",
       "        text-align: right;\n",
       "    }\n",
       "</style>\n",
       "<table border=\"1\" class=\"dataframe\">\n",
       "  <thead>\n",
       "    <tr style=\"text-align: right;\">\n",
       "      <th></th>\n",
       "      <th>order_date</th>\n",
       "      <th>delivery_date</th>\n",
       "    </tr>\n",
       "    <tr>\n",
       "      <th>ID</th>\n",
       "      <th></th>\n",
       "      <th></th>\n",
       "    </tr>\n",
       "  </thead>\n",
       "  <tbody>\n",
       "    <tr>\n",
       "      <th>1</th>\n",
       "      <td>1998-05-24</td>\n",
       "      <td>1999-02-05</td>\n",
       "    </tr>\n",
       "    <tr>\n",
       "      <th>2</th>\n",
       "      <td>1992-04-22</td>\n",
       "      <td>1998-03-06</td>\n",
       "    </tr>\n",
       "    <tr>\n",
       "      <th>4</th>\n",
       "      <td>1991-02-10</td>\n",
       "      <td>1992-08-26</td>\n",
       "    </tr>\n",
       "  </tbody>\n",
       "</table>\n",
       "</div>"
      ],
      "text/plain": [
       "   order_date delivery_date\n",
       "ID                         \n",
       "1  1998-05-24    1999-02-05\n",
       "2  1992-04-22    1998-03-06\n",
       "4  1991-02-10    1992-08-26"
      ]
     },
     "execution_count": 142,
     "metadata": {},
     "output_type": "execute_result"
    }
   ],
   "source": [
    "ecom = pd.read_csv('data/ecommerce.csv', index_col='ID', parse_dates=['order_date', 'delivery_date'])\n",
    "ecom.head(3)"
   ]
  },
  {
   "cell_type": "code",
   "execution_count": 143,
   "id": "bcccef37-a6e8-443b-883f-f9a083f5161e",
   "metadata": {},
   "outputs": [
    {
     "data": {
      "text/html": [
       "<div>\n",
       "<style scoped>\n",
       "    .dataframe tbody tr th:only-of-type {\n",
       "        vertical-align: middle;\n",
       "    }\n",
       "\n",
       "    .dataframe tbody tr th {\n",
       "        vertical-align: top;\n",
       "    }\n",
       "\n",
       "    .dataframe thead th {\n",
       "        text-align: right;\n",
       "    }\n",
       "</style>\n",
       "<table border=\"1\" class=\"dataframe\">\n",
       "  <thead>\n",
       "    <tr style=\"text-align: right;\">\n",
       "      <th></th>\n",
       "      <th>order_date</th>\n",
       "      <th>delivery_date</th>\n",
       "      <th>duration</th>\n",
       "    </tr>\n",
       "    <tr>\n",
       "      <th>ID</th>\n",
       "      <th></th>\n",
       "      <th></th>\n",
       "      <th></th>\n",
       "    </tr>\n",
       "  </thead>\n",
       "  <tbody>\n",
       "    <tr>\n",
       "      <th>1</th>\n",
       "      <td>1998-05-24</td>\n",
       "      <td>1999-02-05</td>\n",
       "      <td>257 days</td>\n",
       "    </tr>\n",
       "    <tr>\n",
       "      <th>2</th>\n",
       "      <td>1992-04-22</td>\n",
       "      <td>1998-03-06</td>\n",
       "      <td>2144 days</td>\n",
       "    </tr>\n",
       "    <tr>\n",
       "      <th>4</th>\n",
       "      <td>1991-02-10</td>\n",
       "      <td>1992-08-26</td>\n",
       "      <td>563 days</td>\n",
       "    </tr>\n",
       "  </tbody>\n",
       "</table>\n",
       "</div>"
      ],
      "text/plain": [
       "   order_date delivery_date  duration\n",
       "ID                                   \n",
       "1  1998-05-24    1999-02-05  257 days\n",
       "2  1992-04-22    1998-03-06 2144 days\n",
       "4  1991-02-10    1992-08-26  563 days"
      ]
     },
     "execution_count": 143,
     "metadata": {},
     "output_type": "execute_result"
    }
   ],
   "source": [
    "ecom['duration'] = ecom['delivery_date'] - ecom['order_date']\n",
    "ecom.head(3)"
   ]
  },
  {
   "cell_type": "code",
   "execution_count": 146,
   "id": "71e4142f-d3c4-4f4b-a24f-13d3ab0082c7",
   "metadata": {},
   "outputs": [
    {
     "data": {
      "text/html": [
       "<div>\n",
       "<style scoped>\n",
       "    .dataframe tbody tr th:only-of-type {\n",
       "        vertical-align: middle;\n",
       "    }\n",
       "\n",
       "    .dataframe tbody tr th {\n",
       "        vertical-align: top;\n",
       "    }\n",
       "\n",
       "    .dataframe thead th {\n",
       "        text-align: right;\n",
       "    }\n",
       "</style>\n",
       "<table border=\"1\" class=\"dataframe\">\n",
       "  <thead>\n",
       "    <tr style=\"text-align: right;\">\n",
       "      <th></th>\n",
       "      <th>order_date</th>\n",
       "      <th>delivery_date</th>\n",
       "      <th>duration</th>\n",
       "    </tr>\n",
       "    <tr>\n",
       "      <th>ID</th>\n",
       "      <th></th>\n",
       "      <th></th>\n",
       "      <th></th>\n",
       "    </tr>\n",
       "  </thead>\n",
       "  <tbody>\n",
       "    <tr>\n",
       "      <th>1</th>\n",
       "      <td>1998-05-24</td>\n",
       "      <td>1999-02-05</td>\n",
       "      <td>257 days</td>\n",
       "    </tr>\n",
       "    <tr>\n",
       "      <th>8</th>\n",
       "      <td>1993-06-10</td>\n",
       "      <td>1993-11-11</td>\n",
       "      <td>154 days</td>\n",
       "    </tr>\n",
       "    <tr>\n",
       "      <th>19</th>\n",
       "      <td>1998-05-10</td>\n",
       "      <td>1998-05-19</td>\n",
       "      <td>9 days</td>\n",
       "    </tr>\n",
       "    <tr>\n",
       "      <th>30</th>\n",
       "      <td>1998-10-22</td>\n",
       "      <td>1999-01-11</td>\n",
       "      <td>81 days</td>\n",
       "    </tr>\n",
       "    <tr>\n",
       "      <th>46</th>\n",
       "      <td>1995-09-05</td>\n",
       "      <td>1996-07-19</td>\n",
       "      <td>318 days</td>\n",
       "    </tr>\n",
       "    <tr>\n",
       "      <th>...</th>\n",
       "      <td>...</td>\n",
       "      <td>...</td>\n",
       "      <td>...</td>\n",
       "    </tr>\n",
       "    <tr>\n",
       "      <th>954</th>\n",
       "      <td>1993-08-08</td>\n",
       "      <td>1994-01-23</td>\n",
       "      <td>168 days</td>\n",
       "    </tr>\n",
       "    <tr>\n",
       "      <th>969</th>\n",
       "      <td>1996-09-24</td>\n",
       "      <td>1996-11-16</td>\n",
       "      <td>53 days</td>\n",
       "    </tr>\n",
       "    <tr>\n",
       "      <th>975</th>\n",
       "      <td>1997-06-18</td>\n",
       "      <td>1997-11-02</td>\n",
       "      <td>137 days</td>\n",
       "    </tr>\n",
       "    <tr>\n",
       "      <th>985</th>\n",
       "      <td>1995-07-26</td>\n",
       "      <td>1996-06-18</td>\n",
       "      <td>328 days</td>\n",
       "    </tr>\n",
       "    <tr>\n",
       "      <th>994</th>\n",
       "      <td>1993-06-03</td>\n",
       "      <td>1993-06-13</td>\n",
       "      <td>10 days</td>\n",
       "    </tr>\n",
       "  </tbody>\n",
       "</table>\n",
       "<p>107 rows × 3 columns</p>\n",
       "</div>"
      ],
      "text/plain": [
       "    order_date delivery_date duration\n",
       "ID                                   \n",
       "1   1998-05-24    1999-02-05 257 days\n",
       "8   1993-06-10    1993-11-11 154 days\n",
       "19  1998-05-10    1998-05-19   9 days\n",
       "30  1998-10-22    1999-01-11  81 days\n",
       "46  1995-09-05    1996-07-19 318 days\n",
       "..         ...           ...      ...\n",
       "954 1993-08-08    1994-01-23 168 days\n",
       "969 1996-09-24    1996-11-16  53 days\n",
       "975 1997-06-18    1997-11-02 137 days\n",
       "985 1995-07-26    1996-06-18 328 days\n",
       "994 1993-06-03    1993-06-13  10 days\n",
       "\n",
       "[107 rows x 3 columns]"
      ]
     },
     "execution_count": 146,
     "metadata": {},
     "output_type": "execute_result"
    }
   ],
   "source": [
    "mask = ecom['duration'] < '365 days'\n",
    "ecom[mask]"
   ]
  },
  {
   "cell_type": "code",
   "execution_count": 145,
   "id": "6d820a1c-e90e-4c99-bdbb-c868055657f9",
   "metadata": {},
   "outputs": [
    {
     "data": {
      "text/plain": [
       "Timedelta('8 days 00:00:00')"
      ]
     },
     "execution_count": 145,
     "metadata": {},
     "output_type": "execute_result"
    }
   ],
   "source": [
    "ecom['duration'].min()"
   ]
  },
  {
   "cell_type": "code",
   "execution_count": null,
   "id": "51ccccbb-5bba-4172-a1c2-64642621b514",
   "metadata": {},
   "outputs": [],
   "source": []
  }
 ],
 "metadata": {
  "kernelspec": {
   "display_name": "Python 3 (ipykernel)",
   "language": "python",
   "name": "python3"
  },
  "language_info": {
   "codemirror_mode": {
    "name": "ipython",
    "version": 3
   },
   "file_extension": ".py",
   "mimetype": "text/x-python",
   "name": "python",
   "nbconvert_exporter": "python",
   "pygments_lexer": "ipython3",
   "version": "3.9.12"
  }
 },
 "nbformat": 4,
 "nbformat_minor": 5
}
