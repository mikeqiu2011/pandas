{
 "cells": [
  {
   "cell_type": "code",
   "execution_count": 2,
   "id": "35077a64-8056-47ae-b22b-6425419c3144",
   "metadata": {},
   "outputs": [],
   "source": [
    "import pandas as pd"
   ]
  },
  {
   "cell_type": "code",
   "execution_count": 4,
   "id": "6f09537f-68d0-45d1-9973-1e330e0d3abe",
   "metadata": {},
   "outputs": [
    {
     "data": {
      "text/html": [
       "<div>\n",
       "<style scoped>\n",
       "    .dataframe tbody tr th:only-of-type {\n",
       "        vertical-align: middle;\n",
       "    }\n",
       "\n",
       "    .dataframe tbody tr th {\n",
       "        vertical-align: top;\n",
       "    }\n",
       "\n",
       "    .dataframe thead th {\n",
       "        text-align: right;\n",
       "    }\n",
       "</style>\n",
       "<table border=\"1\" class=\"dataframe\">\n",
       "  <thead>\n",
       "    <tr style=\"text-align: right;\">\n",
       "      <th></th>\n",
       "      <th>Year of Birth</th>\n",
       "      <th>Gender</th>\n",
       "      <th>Ethnicity</th>\n",
       "      <th>Child's First Name</th>\n",
       "      <th>Count</th>\n",
       "      <th>Rank</th>\n",
       "    </tr>\n",
       "  </thead>\n",
       "  <tbody>\n",
       "    <tr>\n",
       "      <th>0</th>\n",
       "      <td>2011</td>\n",
       "      <td>FEMALE</td>\n",
       "      <td>HISPANIC</td>\n",
       "      <td>GERALDINE</td>\n",
       "      <td>13</td>\n",
       "      <td>75</td>\n",
       "    </tr>\n",
       "    <tr>\n",
       "      <th>1</th>\n",
       "      <td>2011</td>\n",
       "      <td>FEMALE</td>\n",
       "      <td>HISPANIC</td>\n",
       "      <td>GIA</td>\n",
       "      <td>21</td>\n",
       "      <td>67</td>\n",
       "    </tr>\n",
       "    <tr>\n",
       "      <th>2</th>\n",
       "      <td>2011</td>\n",
       "      <td>FEMALE</td>\n",
       "      <td>HISPANIC</td>\n",
       "      <td>GIANNA</td>\n",
       "      <td>49</td>\n",
       "      <td>42</td>\n",
       "    </tr>\n",
       "  </tbody>\n",
       "</table>\n",
       "</div>"
      ],
      "text/plain": [
       "   Year of Birth  Gender Ethnicity Child's First Name  Count  Rank\n",
       "0           2011  FEMALE  HISPANIC          GERALDINE     13    75\n",
       "1           2011  FEMALE  HISPANIC                GIA     21    67\n",
       "2           2011  FEMALE  HISPANIC             GIANNA     49    42"
      ]
     },
     "execution_count": 4,
     "metadata": {},
     "output_type": "execute_result"
    }
   ],
   "source": [
    "url = 'https://data.cityofnewyork.us/api/views/25th-nujf/rows.csv'\n",
    "baby_names = pd.read_csv(url)\n",
    "baby_names.head(3)"
   ]
  },
  {
   "cell_type": "markdown",
   "id": "a8f710f9-0909-430e-b5a4-794efcd9c31f",
   "metadata": {},
   "source": [
    "# quick obj conversion"
   ]
  },
  {
   "cell_type": "code",
   "execution_count": 8,
   "id": "2610a4c7-13da-4a19-a02d-ab06b8d2fb09",
   "metadata": {},
   "outputs": [
    {
     "data": {
      "text/plain": [
       "['GERALDINE', 'GIA', 'GIANNA', 'GISELLE', 'GRACE']"
      ]
     },
     "execution_count": 8,
     "metadata": {},
     "output_type": "execute_result"
    }
   ],
   "source": [
    "baby_names[\"Child's First Name\"].tolist()[:5]"
   ]
  },
  {
   "cell_type": "code",
   "execution_count": 11,
   "id": "053f15d8-236c-4311-a91d-f4ac0cd44c51",
   "metadata": {},
   "outputs": [],
   "source": [
    "# baby_names[\"Child's First Name\"].to_dict()"
   ]
  },
  {
   "cell_type": "code",
   "execution_count": 16,
   "id": "120bf08a-8af3-463b-9789-f480c66d596a",
   "metadata": {},
   "outputs": [
    {
     "data": {
      "text/plain": [
       "\"Aahil, Aaliyah, Aarav, Aaron, Aarya, Aaryan, Aayan, Aayat, Abby, Abdiel, Abdoul, Abdoulaye, Abdul, Abdullah, Abdulloh, Abe, Abel, Abigail, Aboubacar, Abraham, Abrar, Abrielle, Abril, Abubakr, Ace, Ada, Adalynn, Adam, Adan, Addison, Adelaide, Adele, Adelina, Adeline, Adelyn, Adelynn, Aden, Adiel, Adina, Aditya, Adonis, Adrian, Adriana, Adrianna, Adriel, Adyan, Ahad, Aharon, Ahmad, Ahmed, Ahnaf, Ahron, Ahuva, Aicha, Aidan, Aiden, Ailani, Aileen, Aimee, Aisha, Aissata, Aissatou, Aitana, Aiza, Aizah, Akiva, Alahia, Alaia, Alaina, Alan, Alana, Alani, Alanis, Alanna, Alayna, Alba, Albert, Alberto, Aldo, Aleah, Alec, Aleena, Alejandra, Alejandro, Aleksander, Aleksandra, Alessandra, Alessandro, Alessia, Alex, Alexa, Alexander, Alexandra, Alexandria, Alexia, Alexis, Alfred, Alfredo, Ali, Alia, Aliah, Alice, Alicia, Alijah, Alina, Alisa, Alisha, Alison, Alissa, Alisson, Aliya, Aliyah, Aliza, Allan, Allen, Allison, Allyson, Alma, Alondra, Alonso, Alpha, Alston, Alter, Alvin, Alyson, Alyssa, Amadou, Amaia, Amalia, Amanda, Amani, Amar'E, Amara, Amare, Amari, Amaya, Amayah, Ambar, Amber, Amberly, Ameer, Amelia, Amelie, Amia, Amina, Aminata, Amir, Amira, Amirah, Amirjon, Amiya, Amiyah, Amora, Amrom, Amy, Ana, Anabel, Anabella, Anabelle, Anabia, Anahi, Anais, Analia, Ananya, Anas, Anastasia, Anaya, Anayah, Anderson, Andre, Andrea, Andres, Andrew, Andy, Angel, Angela, Angelica, Angelina, Angeline, Angelique, Angelo, Angely, Angie, Angus, Anika, Anisa, Anisha, Aniya, Aniyah, Anjali, Anna, Annabel, Annabella, Annabelle, Annalise, Anne, Annie, Annika, Ansel, Anson, Anthony, Anton, Antonella, Antonia, Antonio, Anya, April, Arabella, Archer, Arden, Arely, Arham, Ari, Aria, Ariadna, Ariadne, Ariah, Arian, Ariana, Arianna, Arianny, Ariel, Ariela, Ariella, Arielle, Arisha, Ariyah, Arjun, Arleth, Arlette, Arlo, Armaan, Armando, Armani, Aron, Arthur, Arturo, Arvin, Arya, Aryan, Arye, Aryeh, Asher, Ashley, Ashly, Ashton, Asia, Astrid, Atara, Athena, Atticus, Aubree, Aubrey, Audrey, August, Augustus, Aurelia, Aurora, Austin, Autumn, Ava, Avery, Avi, Aviel, Avigail, Avital, Aviva, Avraham, Avril, Avrohom, Avrum, Awa, Axel, Aya, Ayaan, Ayala, Ayan, Ayanna, Ayat, Ayden, Aydin, Ayelet, Ayesha, Ayla, Ayleen, Aylin, Ayra, Azaan, Azaria, Azariah, Aziza, Baila, Bailey, Barbara, Baruch, Basya, Batsheva, Batya, Beatrice, Beatrix, Beau, Beckett, Belen, Bella, Ben, Benjamin, Bennett, Benson, Bentzion, Benzion, Berish, Berl, Bethany, Bianca, Billie, Bina, Bintou, Binyamin, Binyomin, Blair, Blake, Blessing, Blima, Blimy, Bodhi, Bonnie, Boruch, Boubacar, Bowen, Bracha, Bradley, Brady, Brandon, Brayan, Brayden, Breindy, Brenda, Brendan, Bria, Brian, Briana, Brianna, Brianny, Bridget, Briella, Brielle, Brigitte, Britney, Brittany, Brody, Brooke, Brooklyn, Brooks, Bruce, Brucha, Bruchy, Bruno, Bryan, Bryanna, Bryant, Bryce, Brynn, Bryson, Burech, Byron, Caden, Caiden, Cairo, Caitlin, Caleb, Cali, Callie, Calvin, Camden, Cameron, Camila, Camilla, Camille, Camilo, Camren, Carina, Carla, Carlos, Carly, Carmelo, Carmen, Carmine, Carolina, Caroline, Carson, Carter, Casey, Cassandra, Cassidy, Cataleya, Catalina, Catherine, Cayden, Cecelia, Cecilia, Celeste, Celia, Celine, Cesar, Chace, Chad, Chaim, Chana, Chance, Chanel, Chanie, Chany, Charles, Charlie, Charlotte, Chase, Chava, Chavy, Chaya, Chelsea, Cheskel, Chesky, Cheyenne, Chiara, Chloe, Chris, Christian, Christina, Christine, Christopher, Christy, Cindy, Claire, Clara, Clark, Claudia, Clementine, Cleo, Cody, Cole, Colette, Colin, Colton, Connie, Connor, Conor, Cooper, Cora, Corey, Cormac, Cristian, Cristina, Cristofer, Cristopher, Crosby, Crystal, Cynthia, Cyrus, Dahlia, Daisy, Dakota, Daleyza, Dalia, Dallas, Damani, Damari, Damaris, Damian, Damien, Damon, Dana, Daniel, Daniela, Daniella, Danielle, Danna, Danny, Dante, Daphne, Dara, Daria, Dariel, Darius, Darren, Darwin, Dashiell, David, Dayana, Dean, Deborah, Declan, Delilah, Demi, Denis, Denise, Denisse, Dennis, Denzel, Dereck, Derek, Derick, Derrick, Desmond, Destiny, Devin, Devoiry, Devon, Devora, Devorah, Devory, Diana, Diego, Dilan, Dillon, Dina, Dion, Dior, Diya, Diyora, Dominic, Dominick, Donovan, Doris, Dov, Dovid, Dream, Drew, Dua, Dulce, Duvid, Dwayne, Dylan, Ean, Eason, Eddie, Eddy, Eden, Edgar, Edison, Edith, Eduardo, Edward, Edwin, Efraim, Egypt, Eileen, Eitan, Elaine, Elan, Eleanor, Elena, Eleni, Eli, Eliam, Elian, Eliana, Elianna, Elianny, Elias, Eliel, Eliezer, Elijah, Elimelech, Elina, Eliot, Elisa, Elise, Elisheva, Eliyahu, Eliza, Elizabeth, Ella, Elle, Elliana, Ellie, Elliot, Elliott, Ellis, Elodie, Eloise, Elsa, Eluzer, Elvin, Elvis, Elya, Emaan, Emani, Emanuel, Emely, Emerson, Emery, Emil, Emilia, Emiliano, Emilio, Emily, Emir, Emma, Emmanuel, Emmanuella, Emmeline, Emmett, Emmy, Empress, Enrique, Enzo, Ephraim, Eric, Erica, Erick, Erik, Erika, Erin, Ermias, Eshaal, Eshal, Eshan, Esme, Esmeralda, Essence, Esteban, Estelle, Ester, Esther, Estrella, Esty, Ethan, Etty, Eunice, Eva, Evan, Evangeline, Eve, Evelina, Evelyn, Everett, Everly, Evie, Eyad, Ezekiel, Ezequiel, Ezra, Ezriel, Fabian, Faiga, Faigy, Faith, Fanta, Farah, Farhan, Farida, Fatima, Fatou, Fatoumata, Felipe, Felix, Fernanda, Fernando, Feynman, Filip, Finley, Finn, Finnegan, Fiona, Fishel, Florence, Fradel, Frady, Fraidy, Frances, Francesca, Francesco, Francis, Francisco, Frank, Franklin, Freddy, Frederick, Freida, Freya, Frida, Frieda, Frimet, Gabriel, Gabriela, Gabriella, Gabrielle, Gael, Gaia, Galilea, Gary, Gavin, Gavriel, Gemma, Genesis, Genevieve, George, Georgia, Georgina, Geraldine, Gerard, Gerardo, Gia, Giada, Giancarlo, Gianluca, Gianna, Gianni, Gideon, Giovani, Giovanna, Giovanni, Giovanny, Giselle, Gittel, Gitty, Giulia, Giuliana, Giuseppe, Golda, Goldie, Goldy, Gordon, Grace, Graham, Grant, Grayson, Gregory, Greta, Grey, Greyson, Griffin, Guadalupe, Gustavo, Guy, Gwendolyn, Hadassa, Hadassah, Hadley, Hafsa, Hailey, Hailie, Haley, Hamza, Hana, Haniya, Hanley, Hanna, Hannah, Hao, Hareem, Harley, Harlow, Harmony, Harper, Harrison, Harry, Harvey, Hashim, Hassan, Hawa, Hayden, Haylee, Hayley, Hazel, Heaven, Heavenly, Hector, Heidi, Heidy, Helen, Helena, Henchy, Hendy, Henny, Henry, Herman, Hersh, Hershel, Hershy, Hillel, Hinda, Hindy, Holden, Hoorain, Hope, Hudson, Hugo, Hunter, Ian, Ibrahim, Ibrahima, Ibrohim, Idris, Idy, Iker, Ilan, Ilana, Imani, Imogen, Imona, Imran, Inaaya, Inaya, Ines, Ingrid, Irene, Iris, Isaac, Isabel, Isabela, Isabella, Isabelle, Isaiah, Isaias, Ishaan, Ishmael, Isiah, Isis, Isla, Ismael, Ismail, Israel, Issac, Itzel, Ivaan, Ivan, Ivanna, Ivy, Iymona, Izabella, Izaiah, Jabari, Jace, Jack, Jackson, Jacky, Jacob, Jacqueline, Jad, Jada, Jade, Jaden, Jadiel, Jael, Jaelyn, Jaelynn, Jaheim, Jahir, Jahmir, Jaiden, Jaime, Jair, Jake, Jakob, Jakub, Jalen, Jaliyah, Jamal, Jamar, Jamari, Jamel, James, Jameson, Jamie, Jamir, Jana, Janae, Jane, Janelle, Janice, Janiel, Janiya, Janiyah, Jannat, Jannatul, Januel, Jared, Jariel, Jasiah, Jaslene, Jaslyn, Jasmin, Jasmina, Jasmine, Jason, Jasper, Javier, Jax, Jaxon, Jaxson, Jay, Jayce, Jayceon, Jaycob, Jayda, Jayden, Jayla, Jaylah, Jaylee, Jayleen, Jaylen, Jaylene, Jaylin, Jaylyn, Jayren, Jayson, Jaziel, Jazlyn, Jazmin, Jazmine, Jazzlyn, Jean, Jeancarlos, Jefferson, Jeffrey, Jelani, Jencarlos, Jenna, Jennifer, Jenny, Jeremiah, Jeremias, Jeremy, Jermaine, Jerry, Jesse, Jessica, Jessie, Jesus, Jewel, Jia, Jimena, Jimmy, Joanna, Joaquin, Jocelyn, Joel, Johan, Johann, Johanna, John, Johnathan, Johnny, Jolie, Jolin, Jonael, Jonah, Jonas, Jonathan, Jordan, Jordi, Jordyn, Jorge, Jose, Josef, Joselyn, Joseph, Josephine, Joshua, Josiah, Josie, Josue, Journee, Journey, Joy, Joyce, Joziah, Juan, Judah, Jude, Judy, Julia, Julian, Juliana, Julianna, Julie, Julien, Juliet, Juliette, Julio, Julissa, Julius, Jun, June, Junior, Juniper, Justice, Justin, Kabir, Kacper, Kaden, Kadiatou, Kaelyn, Kai, Kaia, Kaiden, Kailani, Kailee, Kailey, Kailyn, Kairo, Kaitlyn, Kalani, Kaleb, Kali, Kaliyah, Kamari, Kameron, Kamila, Kamiyah, Kamren, Karas, Kareem, Karen, Karina, Karla, Karter, Kassandra, Kate, Katelyn, Katelynn, Katerina, Katherine, Kathryn, Katie, Kaya, Kayden, Kayla, Kaylani, Kaylee, Kayleen, Kayleigh, Kaylie, Kaylin, Kayson, Kazi, Kehlani, Keila, Keily, Keira, Keith, Kelly, Kelsey, Kelvin, Kendra, Kendrick, Kennedi, Kennedy, Kenneth, Kenny, Kenya, Kenzie, Kenzo, Kevin, Keyla, Khadija, Khadijah, Khaleesi, Khalil, Khari, Khloe, Kian, Kiara, Kiera, Kieran, Kimberly, Kimi, Kimora, King, Kingsley, Kingston, Kira, Kiyan, Kori, Kourtney, Krish, Kristen, Kristian, Kristina, Krystal, Kyla, Kyle, Kylee, Kylie, Kymani, Kyree, Kyrie, Kyro, Kyson, Laia, Laila, Lailah, Laith, Lamar, Lana, Landon, Lara, Larry, Laura, Lauren, Lauryn, Lawrence, Layan, Layla, Lazer, Lea, Leah, Leandro, Leanna, Leela, Legend, Leia, Leibish, Leila, Leilani, Leilany, Lena, Lennox, Lenny, Leo, Leon, Leona, Leonard, Leonardo, Leonel, Leonidas, Leora, Lesley, Leslie, Lesly, Lev, Levi, Leyla, Lia, Liah, Liam, Lian, Liana, Lianna, Liba, Libby, Lielle, Lila, Lilah, Lilia, Lilian, Liliana, Lillian, Lilliana, Lilly, Lily, Lina, Lincoln, Linda, Lindsay, Lionel, Liora, Lipa, Lisa, Litzy, Liv, Livia, Liyana, Liz, Lizbeth, Lizeth, Logan, Lola, London, Londyn, Lorenzo, Louis, Louisa, Louise, Luca, Lucas, Lucia, Lucian, Luciana, Lucien, Lucille, Lucy, Luis, Luka, Lukas, Luke, Luna, Luz, Lyanna, Lydia, Lyla, Lyric, Mabel, Mackenzie, Maddox, Madeleine, Madeline, Madelyn, Madina, Madison, Madisyn, Mae, Maeve, Magaly, Maggie, Mahamadou, Mahnoor, Maia, Maimouna, Maisie, Maison, Maite, Major, Makai, Makayla, Makenzie, Makhi, Maksim, Malachi, Malak, Malaysia, Malcolm, Malek, Malia, Maliha, Malik, Malika, Maliyah, Malka, Malky, Mamadou, Mandy, Manha, Manuel, Marc, Marcel, Marcelo, Marco, Marcos, Marcus, Margaret, Margaux, Margot, Maria, Mariah, Mariam, Mariama, Mariana, Marie, Marielle, Marilyn, Marina, Mario, Marisol, Marjorie, Mark, Marley, Marlon, Marlowe, Marquis, Martin, Marvin, Mary, Maryam, Mason, Massimo, Mateo, Mathew, Mathias, Matias, Matilda, Matteo, Matthew, Matthias, Maurice, Mauricio, Maverick, Max, Maxim, Maximilian, Maximiliano, Maximo, Maximus, Maxwell, Maya, Mayar, Mayer, Mayson, Mckenzie, Md, Mechel, Meera, Megan, Meghan, Meilech, Meir, Meira, Mekhi, Melania, Melanie, Melany, Melina, Melissa, Melody, Melvin, Menachem, Menashe, Mendel, Mendy, Menucha, Meshilem, Messiah, Meyer, Mia, Miah, Micaela, Micah, Michael, Michaela, Michal, Michelle, Miguel, Mika, Mikael, Mikaela, Mikayla, Mike, Mila, Milagros, Milan, Milana, Milani, Milania, Milena, Miles, Miley, Millie, Milo, Mina, Mindy, Mira, Miracle, Miranda, Mirel, Miri, Miriam, Misael, Miya, Mohamed, Mohammad, Mohammed, Moises, Moishe, Moishy, Mollie, Molly, Monica, Monserrat, Montserrat, Mordche, Mordechai, Morgan, Morris, Moses, Moshe, Motty, Mouhamed, Moussa, Muhammad, Muhammad Ali, Muntaha, Musa, Mushka, Muslima, Mustafa, Mya, Myles, Myra, Nabiha, Nachman, Nadia, Naftali, Naftuli, Nahla, Nailah, Nala, Nalani, Nana, Nancy, Naomi, Nashla, Nashley, Nashly, Nasir, Natalia, Natalie, Nataly, Natasha, Nathalia, Nathalie, Nathaly, Nathan, Nathanael, Nathaniel, Nava, Nayeli, Nayla, Nazir, Nechama, Nehemiah, Neil, Nelson, Nevaeh, Neymar, Nia, Niam, Nicholas, Nico, Nicolas, Nicole, Nicolette, Nigel, Nikhil, Nikita, Nikolai, Nikolas, Nina, Noa, Noach, Noah, Noam, Noel, Noelle, Noemi, Nolan, Noor, Nora, Norah, Nosson, Nova, Nuchem, Nusrat, Nyah, Nyla, Nylah, Olive, Oliver, Olivia, Olympia, Omar, Omari, Ophelia, Oren, Ori, Orion, Orlando, Orly, Oscar, Oskar, Otis, Otto, Oumar, Oumou, Ousmane, Owen, Pablo, Paige, Paloma, Pamela, Paola, Paris, Parizoda, Parker, Patrick, Paul, Paula, Payton, Pearl, Pedro, Penelope, Perel, Peretz, Perl, Perla, Perry, Pessy, Peter, Peyton, Philip, Phoebe, Phoenix, Pierce, Pinchas, Pinchus, Piper, Polina, Poppy, Precious, Preston, Prince, Princess, Princeton, Priscilla, Queena, Queenie, Quincy, Quinn, Rachel, Rafael, Rahaf, Raina, Raizel, Raizy, Ralph, Randy, Raphael, Raquel, Raul, Raya, Rayan, Raymond, Rayna, Rayyan, Reagan, Rebecca, Reed, Reem, Reese, Rehan, Reid, Reign, Reina, Reizy, Remi, Remy, Rena, Renata, Renee, Reuben, Reuven, Rhea, Rhys, Ricardo, Richard, Ricky, Rifka, Rifky, Rihanna, Riley, Rina, Riva, River, Rivka, Rivkah, Rivky, Riya, Robert, Roberto, Rocco, Rochel, Rodney, Rodrigo, Roger, Rohaan, Rohan, Roiza, Roizy, Roman, Romeo, Romy, Ronald, Ronaldo, Ronan, Rory, Rosa, Rose, Roselyn, Rosemary, Rosie, Rowan, Roy, Royal, Royalty, Royce, Ruben, Ruby, Ruchel, Ruchy, Russell, Ruth, Ryan, Ryder, Rylee, Sabiha, Sabina, Sabrina, Sade, Sadie, Safa, Safwan, Sage, Sahil, Saif, Saifan, Saige, Saint, Salma, Salome, Salvatore, Sam, Sama, Samaira, Samantha, Samara, Sami, Samir, Samira, Samiya, Samiyah, Sammy, Samuel, Sanaa, Sanai, Sandra, Saniya, Saniyah, Santiago, Santino, Saoirse, Sapphire, Sara, Sarah, Sarahi, Sarai, Sari, Sariah, Sarina, Sariyah, Sasha, Saul, Savanna, Savannah, Savion, Sawyer, Scarlet, Scarlett, Scott, Sean, Sebastian, Sekou, Selena, Selim, Selina, Selma, Serafina, Serena, Serenity, Sergio, Seth, Sevyn, Shaina, Shaindel, Shaindy, Shalom, Shane, Shania, Shaniya, Sharon, Shaul, Shawn, Shaya, Shayaan, Shayan, Shayla, Shayna, Shea, Sheldon, Sherlyn, Sherry, Shevy, Shia, Shifra, Shiloh, Shimon, Shira, Shirley, Shloime, Shloimy, Shloma, Shlome, Shlomo, Shmiel, Shmuel, Shneur, Sholom, Shoshana, Shraga, Shreya, Shukrona, Shulem, Sidney, Siena, Sienna, Silas, Sima, Simcha, Simi, Simon, Simone, Sincere, Sky, Skye, Skyla, Skylah, Skylar, Skyler, Sloane, Sofia, Solomon, Sonia, Sonny, Sophia, Sophie, Soraya, Spencer, Stacey, Stacy, Stanley, Stefan, Stella, Stephanie, Stephany, Stephen, Steve, Steven, Subhan, Sulaiman, Summer, Sunny, Suri, Sury, Sydney, Syed, Syeda, Sylvia, Sylvie, Symphony, Tabitha, Tahmid, Talia, Taliyah, Tallulah, Tamar, Tamara, Tamia, Tanisha, Taraji, Tasnim, Tatiana, Taylor, Teagan, Tehila, Tenzin, Terrell, Terrence, Terry, Tess, Tessa, Thea, Theo, Theodora, Theodore, Thiago, Thierno, Thomas, Tiana, Tianna, Tiffany, Timothy, Timur, Tina, Toba, Tobias, Toby, Tomas, Tony, Tori, Tova, Trany, Travis, Trinity, Tristan, Troy, Tyler, Tzipora, Tziporah, Tzippy, Tzirel, Tzivia, Tzvi, Umar, Uriel, Usher, Valentin, Valentina, Valentino, Valeria, Valerie, Valery, Vanessa, Veer, Vera, Veronica, Veronika, Vicky, Victor, Victoria, Vienna, Vihaan, Viktor, Vincent, Vincenzo, Violet, Violeta, Virginia, Vivian, Viviana, Vivienne, Walker, Walter, Wendy, Wesley, Weston, Wilder, Willa, William, Willow, Wilson, Winnie, Winston, Winter, Wolf, Wyatt, Wynter, Xander, Xavier, Ximena, Xin, Yaakov, Yachet, Yadiel, Yael, Yahir, Yahya, Yair, Yakov, Yamilet, Yamileth, Yandel, Yaniel, Yanky, Yara, Yareli, Yaretzi, Yariel, Yaritza, Yaseen, Yasmin, Yasmina, Yasmine, Yassin, Yechezkel, Yechiel, Yehoshua, Yehuda, Yehudah, Yehudis, Yerik, Yesenia, Yeshaya, Yida, Yidel, Yides, Yisrael, Yisroel, Yitta, Yitty, Yitzchak, Yitzchok, Yocheved, Yoel, Yona, Yonah, Yonatan, Yosef, Yossi, Younis, Yousef, Youssef, Yu, Yuna, Yusuf, Zabdiel, Zachariah, Zachary, Zahara, Zahir, Zahra, Zaid, Zaiden, Zain, Zainab, Zaire, Zakaria, Zalmen, Zamir, Zander, Zane, Zaniyah, Zara, Zaria, Zariah, Zayan, Zayden, Zayn, Zelda, Zendaya, Zev, Zhuri, Zion, Zissy, Zoe, Zoey, Zora, Zoya, Zuri, Zyaire\""
      ]
     },
     "execution_count": 16,
     "metadata": {},
     "output_type": "execute_result"
    }
   ],
   "source": [
    "', '.join(baby_names[\"Child's First Name\"].str.title().drop_duplicates().sort_values())  "
   ]
  },
  {
   "cell_type": "markdown",
   "id": "74a357b8-d4ac-4a7c-b3c7-75b403fd9ea5",
   "metadata": {},
   "source": [
    "# export csv file"
   ]
  },
  {
   "cell_type": "code",
   "execution_count": 22,
   "id": "35e42a4b-2ecc-4c44-8b18-62e34c82379d",
   "metadata": {},
   "outputs": [],
   "source": [
    "baby_names.to_csv('NYC_Baby_Names.csv', index=False, encoding='utf-8',\n",
    "                  columns=['Gender', 'Ethnicity', \"Child's First Name\"])"
   ]
  },
  {
   "cell_type": "markdown",
   "id": "9d40672d-2892-4bb4-b199-6049e9982445",
   "metadata": {},
   "source": [
    "# work with excel file"
   ]
  },
  {
   "cell_type": "markdown",
   "id": "703d5d18-6ee3-47e0-8848-8b65fa9ced1c",
   "metadata": {},
   "source": [
    "> conda install openpyxl xlrd"
   ]
  },
  {
   "cell_type": "code",
   "execution_count": 23,
   "id": "38bd62f9-800d-496f-860b-eb187bc3f1bc",
   "metadata": {},
   "outputs": [
    {
     "data": {
      "text/html": [
       "<div>\n",
       "<style scoped>\n",
       "    .dataframe tbody tr th:only-of-type {\n",
       "        vertical-align: middle;\n",
       "    }\n",
       "\n",
       "    .dataframe tbody tr th {\n",
       "        vertical-align: top;\n",
       "    }\n",
       "\n",
       "    .dataframe thead th {\n",
       "        text-align: right;\n",
       "    }\n",
       "</style>\n",
       "<table border=\"1\" class=\"dataframe\">\n",
       "  <thead>\n",
       "    <tr style=\"text-align: right;\">\n",
       "      <th></th>\n",
       "      <th>First Name</th>\n",
       "      <th>Last Name</th>\n",
       "      <th>City</th>\n",
       "      <th>Gender</th>\n",
       "    </tr>\n",
       "  </thead>\n",
       "  <tbody>\n",
       "    <tr>\n",
       "      <th>0</th>\n",
       "      <td>Brandon</td>\n",
       "      <td>James</td>\n",
       "      <td>Miami</td>\n",
       "      <td>M</td>\n",
       "    </tr>\n",
       "    <tr>\n",
       "      <th>1</th>\n",
       "      <td>Sean</td>\n",
       "      <td>Hawkins</td>\n",
       "      <td>Denver</td>\n",
       "      <td>M</td>\n",
       "    </tr>\n",
       "    <tr>\n",
       "      <th>2</th>\n",
       "      <td>Judy</td>\n",
       "      <td>Day</td>\n",
       "      <td>Los Angeles</td>\n",
       "      <td>F</td>\n",
       "    </tr>\n",
       "    <tr>\n",
       "      <th>3</th>\n",
       "      <td>Ashley</td>\n",
       "      <td>Ruiz</td>\n",
       "      <td>San Francisco</td>\n",
       "      <td>F</td>\n",
       "    </tr>\n",
       "    <tr>\n",
       "      <th>4</th>\n",
       "      <td>Stephanie</td>\n",
       "      <td>Gomez</td>\n",
       "      <td>Portland</td>\n",
       "      <td>F</td>\n",
       "    </tr>\n",
       "  </tbody>\n",
       "</table>\n",
       "</div>"
      ],
      "text/plain": [
       "  First Name Last Name           City Gender\n",
       "0    Brandon     James          Miami      M\n",
       "1       Sean   Hawkins         Denver      M\n",
       "2       Judy       Day    Los Angeles      F\n",
       "3     Ashley      Ruiz  San Francisco      F\n",
       "4  Stephanie     Gomez       Portland      F"
      ]
     },
     "execution_count": 23,
     "metadata": {},
     "output_type": "execute_result"
    }
   ],
   "source": [
    "pd.read_excel('data/Data - Single Worksheet.xlsx')"
   ]
  },
  {
   "cell_type": "code",
   "execution_count": 25,
   "id": "f513960a-08e9-4e39-87ba-5f26c56df62f",
   "metadata": {},
   "outputs": [
    {
     "data": {
      "text/html": [
       "<div>\n",
       "<style scoped>\n",
       "    .dataframe tbody tr th:only-of-type {\n",
       "        vertical-align: middle;\n",
       "    }\n",
       "\n",
       "    .dataframe tbody tr th {\n",
       "        vertical-align: top;\n",
       "    }\n",
       "\n",
       "    .dataframe thead th {\n",
       "        text-align: right;\n",
       "    }\n",
       "</style>\n",
       "<table border=\"1\" class=\"dataframe\">\n",
       "  <thead>\n",
       "    <tr style=\"text-align: right;\">\n",
       "      <th></th>\n",
       "      <th>First Name</th>\n",
       "      <th>Last Name</th>\n",
       "      <th>City</th>\n",
       "      <th>Gender</th>\n",
       "    </tr>\n",
       "  </thead>\n",
       "  <tbody>\n",
       "    <tr>\n",
       "      <th>0</th>\n",
       "      <td>Brandon</td>\n",
       "      <td>James</td>\n",
       "      <td>Miami</td>\n",
       "      <td>M</td>\n",
       "    </tr>\n",
       "    <tr>\n",
       "      <th>1</th>\n",
       "      <td>Sean</td>\n",
       "      <td>Hawkins</td>\n",
       "      <td>Denver</td>\n",
       "      <td>M</td>\n",
       "    </tr>\n",
       "    <tr>\n",
       "      <th>2</th>\n",
       "      <td>Judy</td>\n",
       "      <td>Day</td>\n",
       "      <td>Los Angeles</td>\n",
       "      <td>F</td>\n",
       "    </tr>\n",
       "    <tr>\n",
       "      <th>3</th>\n",
       "      <td>Ashley</td>\n",
       "      <td>Ruiz</td>\n",
       "      <td>San Francisco</td>\n",
       "      <td>F</td>\n",
       "    </tr>\n",
       "    <tr>\n",
       "      <th>4</th>\n",
       "      <td>Stephanie</td>\n",
       "      <td>Gomez</td>\n",
       "      <td>Portland</td>\n",
       "      <td>F</td>\n",
       "    </tr>\n",
       "  </tbody>\n",
       "</table>\n",
       "</div>"
      ],
      "text/plain": [
       "  First Name Last Name           City Gender\n",
       "0    Brandon     James          Miami      M\n",
       "1       Sean   Hawkins         Denver      M\n",
       "2       Judy       Day    Los Angeles      F\n",
       "3     Ashley      Ruiz  San Francisco      F\n",
       "4  Stephanie     Gomez       Portland      F"
      ]
     },
     "execution_count": 25,
     "metadata": {},
     "output_type": "execute_result"
    }
   ],
   "source": [
    "# default to read the first sheet\n",
    "pd.read_excel('data/Data - Multiple Worksheets.xlsx')"
   ]
  },
  {
   "cell_type": "code",
   "execution_count": 26,
   "id": "ed47f091-ef51-409e-afab-5648a1edc697",
   "metadata": {},
   "outputs": [
    {
     "data": {
      "text/html": [
       "<div>\n",
       "<style scoped>\n",
       "    .dataframe tbody tr th:only-of-type {\n",
       "        vertical-align: middle;\n",
       "    }\n",
       "\n",
       "    .dataframe tbody tr th {\n",
       "        vertical-align: top;\n",
       "    }\n",
       "\n",
       "    .dataframe thead th {\n",
       "        text-align: right;\n",
       "    }\n",
       "</style>\n",
       "<table border=\"1\" class=\"dataframe\">\n",
       "  <thead>\n",
       "    <tr style=\"text-align: right;\">\n",
       "      <th></th>\n",
       "      <th>First Name</th>\n",
       "      <th>Last Name</th>\n",
       "      <th>City</th>\n",
       "      <th>Gender</th>\n",
       "    </tr>\n",
       "  </thead>\n",
       "  <tbody>\n",
       "    <tr>\n",
       "      <th>0</th>\n",
       "      <td>Parker</td>\n",
       "      <td>Power</td>\n",
       "      <td>Raleigh</td>\n",
       "      <td>F</td>\n",
       "    </tr>\n",
       "    <tr>\n",
       "      <th>1</th>\n",
       "      <td>Preston</td>\n",
       "      <td>Prescott</td>\n",
       "      <td>Philadelphia</td>\n",
       "      <td>F</td>\n",
       "    </tr>\n",
       "    <tr>\n",
       "      <th>2</th>\n",
       "      <td>Ronaldo</td>\n",
       "      <td>Donaldo</td>\n",
       "      <td>Bangor</td>\n",
       "      <td>M</td>\n",
       "    </tr>\n",
       "    <tr>\n",
       "      <th>3</th>\n",
       "      <td>Megan</td>\n",
       "      <td>Stiller</td>\n",
       "      <td>San Francisco</td>\n",
       "      <td>M</td>\n",
       "    </tr>\n",
       "    <tr>\n",
       "      <th>4</th>\n",
       "      <td>Bustin</td>\n",
       "      <td>Jieber</td>\n",
       "      <td>Austin</td>\n",
       "      <td>F</td>\n",
       "    </tr>\n",
       "  </tbody>\n",
       "</table>\n",
       "</div>"
      ],
      "text/plain": [
       "  First Name Last Name           City Gender\n",
       "0     Parker     Power        Raleigh      F\n",
       "1    Preston  Prescott   Philadelphia      F\n",
       "2    Ronaldo   Donaldo         Bangor      M\n",
       "3      Megan   Stiller  San Francisco      M\n",
       "4     Bustin    Jieber         Austin      F"
      ]
     },
     "execution_count": 26,
     "metadata": {},
     "output_type": "execute_result"
    }
   ],
   "source": [
    "pd.read_excel('data/Data - Multiple Worksheets.xlsx', sheet_name=1)"
   ]
  },
  {
   "cell_type": "code",
   "execution_count": 28,
   "id": "543575ae-7623-4f1a-813f-aadbd9247964",
   "metadata": {},
   "outputs": [
    {
     "data": {
      "text/html": [
       "<div>\n",
       "<style scoped>\n",
       "    .dataframe tbody tr th:only-of-type {\n",
       "        vertical-align: middle;\n",
       "    }\n",
       "\n",
       "    .dataframe tbody tr th {\n",
       "        vertical-align: top;\n",
       "    }\n",
       "\n",
       "    .dataframe thead th {\n",
       "        text-align: right;\n",
       "    }\n",
       "</style>\n",
       "<table border=\"1\" class=\"dataframe\">\n",
       "  <thead>\n",
       "    <tr style=\"text-align: right;\">\n",
       "      <th></th>\n",
       "      <th>First Name</th>\n",
       "      <th>Last Name</th>\n",
       "      <th>City</th>\n",
       "      <th>Gender</th>\n",
       "    </tr>\n",
       "  </thead>\n",
       "  <tbody>\n",
       "    <tr>\n",
       "      <th>0</th>\n",
       "      <td>Parker</td>\n",
       "      <td>Power</td>\n",
       "      <td>Raleigh</td>\n",
       "      <td>F</td>\n",
       "    </tr>\n",
       "    <tr>\n",
       "      <th>1</th>\n",
       "      <td>Preston</td>\n",
       "      <td>Prescott</td>\n",
       "      <td>Philadelphia</td>\n",
       "      <td>F</td>\n",
       "    </tr>\n",
       "    <tr>\n",
       "      <th>2</th>\n",
       "      <td>Ronaldo</td>\n",
       "      <td>Donaldo</td>\n",
       "      <td>Bangor</td>\n",
       "      <td>M</td>\n",
       "    </tr>\n",
       "    <tr>\n",
       "      <th>3</th>\n",
       "      <td>Megan</td>\n",
       "      <td>Stiller</td>\n",
       "      <td>San Francisco</td>\n",
       "      <td>M</td>\n",
       "    </tr>\n",
       "    <tr>\n",
       "      <th>4</th>\n",
       "      <td>Bustin</td>\n",
       "      <td>Jieber</td>\n",
       "      <td>Austin</td>\n",
       "      <td>F</td>\n",
       "    </tr>\n",
       "  </tbody>\n",
       "</table>\n",
       "</div>"
      ],
      "text/plain": [
       "  First Name Last Name           City Gender\n",
       "0     Parker     Power        Raleigh      F\n",
       "1    Preston  Prescott   Philadelphia      F\n",
       "2    Ronaldo   Donaldo         Bangor      M\n",
       "3      Megan   Stiller  San Francisco      M\n",
       "4     Bustin    Jieber         Austin      F"
      ]
     },
     "execution_count": 28,
     "metadata": {},
     "output_type": "execute_result"
    }
   ],
   "source": [
    "pd.read_excel('data/Data - Multiple Worksheets.xlsx', sheet_name='Data 2')"
   ]
  },
  {
   "cell_type": "code",
   "execution_count": 29,
   "id": "6305924c-af1b-4888-b0f1-8954b99267ff",
   "metadata": {},
   "outputs": [
    {
     "data": {
      "text/plain": [
       "{'Data 1':   First Name Last Name           City Gender\n",
       " 0    Brandon     James          Miami      M\n",
       " 1       Sean   Hawkins         Denver      M\n",
       " 2       Judy       Day    Los Angeles      F\n",
       " 3     Ashley      Ruiz  San Francisco      F\n",
       " 4  Stephanie     Gomez       Portland      F,\n",
       " 'Data 2':   First Name Last Name           City Gender\n",
       " 0     Parker     Power        Raleigh      F\n",
       " 1    Preston  Prescott   Philadelphia      F\n",
       " 2    Ronaldo   Donaldo         Bangor      M\n",
       " 3      Megan   Stiller  San Francisco      M\n",
       " 4     Bustin    Jieber         Austin      F}"
      ]
     },
     "execution_count": 29,
     "metadata": {},
     "output_type": "execute_result"
    }
   ],
   "source": [
    "pd.read_excel('data/Data - Multiple Worksheets.xlsx', sheet_name=['Data 1', 'Data 2'])"
   ]
  },
  {
   "cell_type": "code",
   "execution_count": 31,
   "id": "cadc7d22-bece-4b10-bf2f-8e95a0c9572b",
   "metadata": {},
   "outputs": [
    {
     "data": {
      "text/html": [
       "<div>\n",
       "<style scoped>\n",
       "    .dataframe tbody tr th:only-of-type {\n",
       "        vertical-align: middle;\n",
       "    }\n",
       "\n",
       "    .dataframe tbody tr th {\n",
       "        vertical-align: top;\n",
       "    }\n",
       "\n",
       "    .dataframe thead th {\n",
       "        text-align: right;\n",
       "    }\n",
       "</style>\n",
       "<table border=\"1\" class=\"dataframe\">\n",
       "  <thead>\n",
       "    <tr style=\"text-align: right;\">\n",
       "      <th></th>\n",
       "      <th>First Name</th>\n",
       "      <th>Last Name</th>\n",
       "      <th>City</th>\n",
       "      <th>Gender</th>\n",
       "    </tr>\n",
       "  </thead>\n",
       "  <tbody>\n",
       "    <tr>\n",
       "      <th>0</th>\n",
       "      <td>Brandon</td>\n",
       "      <td>James</td>\n",
       "      <td>Miami</td>\n",
       "      <td>M</td>\n",
       "    </tr>\n",
       "    <tr>\n",
       "      <th>1</th>\n",
       "      <td>Sean</td>\n",
       "      <td>Hawkins</td>\n",
       "      <td>Denver</td>\n",
       "      <td>M</td>\n",
       "    </tr>\n",
       "    <tr>\n",
       "      <th>2</th>\n",
       "      <td>Judy</td>\n",
       "      <td>Day</td>\n",
       "      <td>Los Angeles</td>\n",
       "      <td>F</td>\n",
       "    </tr>\n",
       "  </tbody>\n",
       "</table>\n",
       "</div>"
      ],
      "text/plain": [
       "  First Name Last Name         City Gender\n",
       "0    Brandon     James        Miami      M\n",
       "1       Sean   Hawkins       Denver      M\n",
       "2       Judy       Day  Los Angeles      F"
      ]
     },
     "execution_count": 31,
     "metadata": {},
     "output_type": "execute_result"
    }
   ],
   "source": [
    "data = pd.read_excel('data/Data - Multiple Worksheets.xlsx', sheet_name=['Data 1', 'Data 2'])\n",
    "df1 = data['Data 1']\n",
    "df1.head(3)"
   ]
  },
  {
   "cell_type": "code",
   "execution_count": 32,
   "id": "deb0e3d3-ca9b-4cf7-a666-8397bf508967",
   "metadata": {},
   "outputs": [
    {
     "data": {
      "text/plain": [
       "{'Data 1':   First Name Last Name           City Gender\n",
       " 0    Brandon     James          Miami      M\n",
       " 1       Sean   Hawkins         Denver      M\n",
       " 2       Judy       Day    Los Angeles      F\n",
       " 3     Ashley      Ruiz  San Francisco      F\n",
       " 4  Stephanie     Gomez       Portland      F,\n",
       " 'Data 2':   First Name Last Name           City Gender\n",
       " 0     Parker     Power        Raleigh      F\n",
       " 1    Preston  Prescott   Philadelphia      F\n",
       " 2    Ronaldo   Donaldo         Bangor      M\n",
       " 3      Megan   Stiller  San Francisco      M\n",
       " 4     Bustin    Jieber         Austin      F}"
      ]
     },
     "execution_count": 32,
     "metadata": {},
     "output_type": "execute_result"
    }
   ],
   "source": [
    "data = pd.read_excel('data/Data - Multiple Worksheets.xlsx', sheet_name=None)\n",
    "data"
   ]
  },
  {
   "cell_type": "markdown",
   "id": "f5a61195-0ab2-4fc2-bd6c-adcfa8b76682",
   "metadata": {},
   "source": [
    "# export to excel"
   ]
  },
  {
   "cell_type": "code",
   "execution_count": 33,
   "id": "79517536-e2d4-416e-bb74-d198421c36d9",
   "metadata": {},
   "outputs": [
    {
     "data": {
      "text/html": [
       "<div>\n",
       "<style scoped>\n",
       "    .dataframe tbody tr th:only-of-type {\n",
       "        vertical-align: middle;\n",
       "    }\n",
       "\n",
       "    .dataframe tbody tr th {\n",
       "        vertical-align: top;\n",
       "    }\n",
       "\n",
       "    .dataframe thead th {\n",
       "        text-align: right;\n",
       "    }\n",
       "</style>\n",
       "<table border=\"1\" class=\"dataframe\">\n",
       "  <thead>\n",
       "    <tr style=\"text-align: right;\">\n",
       "      <th></th>\n",
       "      <th>Year of Birth</th>\n",
       "      <th>Gender</th>\n",
       "      <th>Ethnicity</th>\n",
       "      <th>Child's First Name</th>\n",
       "      <th>Count</th>\n",
       "      <th>Rank</th>\n",
       "    </tr>\n",
       "  </thead>\n",
       "  <tbody>\n",
       "    <tr>\n",
       "      <th>0</th>\n",
       "      <td>2011</td>\n",
       "      <td>FEMALE</td>\n",
       "      <td>HISPANIC</td>\n",
       "      <td>GERALDINE</td>\n",
       "      <td>13</td>\n",
       "      <td>75</td>\n",
       "    </tr>\n",
       "    <tr>\n",
       "      <th>1</th>\n",
       "      <td>2011</td>\n",
       "      <td>FEMALE</td>\n",
       "      <td>HISPANIC</td>\n",
       "      <td>GIA</td>\n",
       "      <td>21</td>\n",
       "      <td>67</td>\n",
       "    </tr>\n",
       "    <tr>\n",
       "      <th>2</th>\n",
       "      <td>2011</td>\n",
       "      <td>FEMALE</td>\n",
       "      <td>HISPANIC</td>\n",
       "      <td>GIANNA</td>\n",
       "      <td>49</td>\n",
       "      <td>42</td>\n",
       "    </tr>\n",
       "  </tbody>\n",
       "</table>\n",
       "</div>"
      ],
      "text/plain": [
       "   Year of Birth  Gender Ethnicity Child's First Name  Count  Rank\n",
       "0           2011  FEMALE  HISPANIC          GERALDINE     13    75\n",
       "1           2011  FEMALE  HISPANIC                GIA     21    67\n",
       "2           2011  FEMALE  HISPANIC             GIANNA     49    42"
      ]
     },
     "execution_count": 33,
     "metadata": {},
     "output_type": "execute_result"
    }
   ],
   "source": [
    "baby_names.head(3)"
   ]
  },
  {
   "cell_type": "code",
   "execution_count": 37,
   "id": "7b2d372a-19a3-423a-b98f-d1570b72d6ea",
   "metadata": {},
   "outputs": [
    {
     "data": {
      "text/html": [
       "<div>\n",
       "<style scoped>\n",
       "    .dataframe tbody tr th:only-of-type {\n",
       "        vertical-align: middle;\n",
       "    }\n",
       "\n",
       "    .dataframe tbody tr th {\n",
       "        vertical-align: top;\n",
       "    }\n",
       "\n",
       "    .dataframe thead th {\n",
       "        text-align: right;\n",
       "    }\n",
       "</style>\n",
       "<table border=\"1\" class=\"dataframe\">\n",
       "  <thead>\n",
       "    <tr style=\"text-align: right;\">\n",
       "      <th></th>\n",
       "      <th>Year of Birth</th>\n",
       "      <th>Gender</th>\n",
       "      <th>Ethnicity</th>\n",
       "      <th>Child's First Name</th>\n",
       "      <th>Count</th>\n",
       "      <th>Rank</th>\n",
       "    </tr>\n",
       "  </thead>\n",
       "  <tbody>\n",
       "    <tr>\n",
       "      <th>0</th>\n",
       "      <td>2011</td>\n",
       "      <td>FEMALE</td>\n",
       "      <td>HISPANIC</td>\n",
       "      <td>GERALDINE</td>\n",
       "      <td>13</td>\n",
       "      <td>75</td>\n",
       "    </tr>\n",
       "    <tr>\n",
       "      <th>1</th>\n",
       "      <td>2011</td>\n",
       "      <td>FEMALE</td>\n",
       "      <td>HISPANIC</td>\n",
       "      <td>GIA</td>\n",
       "      <td>21</td>\n",
       "      <td>67</td>\n",
       "    </tr>\n",
       "    <tr>\n",
       "      <th>2</th>\n",
       "      <td>2011</td>\n",
       "      <td>FEMALE</td>\n",
       "      <td>HISPANIC</td>\n",
       "      <td>GIANNA</td>\n",
       "      <td>49</td>\n",
       "      <td>42</td>\n",
       "    </tr>\n",
       "    <tr>\n",
       "      <th>3</th>\n",
       "      <td>2011</td>\n",
       "      <td>FEMALE</td>\n",
       "      <td>HISPANIC</td>\n",
       "      <td>GISELLE</td>\n",
       "      <td>38</td>\n",
       "      <td>51</td>\n",
       "    </tr>\n",
       "    <tr>\n",
       "      <th>4</th>\n",
       "      <td>2011</td>\n",
       "      <td>FEMALE</td>\n",
       "      <td>HISPANIC</td>\n",
       "      <td>GRACE</td>\n",
       "      <td>36</td>\n",
       "      <td>53</td>\n",
       "    </tr>\n",
       "    <tr>\n",
       "      <th>...</th>\n",
       "      <td>...</td>\n",
       "      <td>...</td>\n",
       "      <td>...</td>\n",
       "      <td>...</td>\n",
       "      <td>...</td>\n",
       "      <td>...</td>\n",
       "    </tr>\n",
       "    <tr>\n",
       "      <th>49504</th>\n",
       "      <td>2018</td>\n",
       "      <td>FEMALE</td>\n",
       "      <td>BLACK NON HISPANIC</td>\n",
       "      <td>Nala</td>\n",
       "      <td>10</td>\n",
       "      <td>40</td>\n",
       "    </tr>\n",
       "    <tr>\n",
       "      <th>49505</th>\n",
       "      <td>2018</td>\n",
       "      <td>FEMALE</td>\n",
       "      <td>BLACK NON HISPANIC</td>\n",
       "      <td>Royalty</td>\n",
       "      <td>10</td>\n",
       "      <td>40</td>\n",
       "    </tr>\n",
       "    <tr>\n",
       "      <th>49506</th>\n",
       "      <td>2018</td>\n",
       "      <td>FEMALE</td>\n",
       "      <td>BLACK NON HISPANIC</td>\n",
       "      <td>Sariyah</td>\n",
       "      <td>10</td>\n",
       "      <td>40</td>\n",
       "    </tr>\n",
       "    <tr>\n",
       "      <th>49507</th>\n",
       "      <td>2018</td>\n",
       "      <td>FEMALE</td>\n",
       "      <td>BLACK NON HISPANIC</td>\n",
       "      <td>Simone</td>\n",
       "      <td>10</td>\n",
       "      <td>40</td>\n",
       "    </tr>\n",
       "    <tr>\n",
       "      <th>49508</th>\n",
       "      <td>2018</td>\n",
       "      <td>FEMALE</td>\n",
       "      <td>BLACK NON HISPANIC</td>\n",
       "      <td>Zahra</td>\n",
       "      <td>10</td>\n",
       "      <td>40</td>\n",
       "    </tr>\n",
       "  </tbody>\n",
       "</table>\n",
       "<p>25275 rows × 6 columns</p>\n",
       "</div>"
      ],
      "text/plain": [
       "       Year of Birth  Gender           Ethnicity Child's First Name  Count  \\\n",
       "0               2011  FEMALE            HISPANIC          GERALDINE     13   \n",
       "1               2011  FEMALE            HISPANIC                GIA     21   \n",
       "2               2011  FEMALE            HISPANIC             GIANNA     49   \n",
       "3               2011  FEMALE            HISPANIC            GISELLE     38   \n",
       "4               2011  FEMALE            HISPANIC              GRACE     36   \n",
       "...              ...     ...                 ...                ...    ...   \n",
       "49504           2018  FEMALE  BLACK NON HISPANIC               Nala     10   \n",
       "49505           2018  FEMALE  BLACK NON HISPANIC            Royalty     10   \n",
       "49506           2018  FEMALE  BLACK NON HISPANIC            Sariyah     10   \n",
       "49507           2018  FEMALE  BLACK NON HISPANIC             Simone     10   \n",
       "49508           2018  FEMALE  BLACK NON HISPANIC              Zahra     10   \n",
       "\n",
       "       Rank  \n",
       "0        75  \n",
       "1        67  \n",
       "2        42  \n",
       "3        51  \n",
       "4        53  \n",
       "...     ...  \n",
       "49504    40  \n",
       "49505    40  \n",
       "49506    40  \n",
       "49507    40  \n",
       "49508    40  \n",
       "\n",
       "[25275 rows x 6 columns]"
      ]
     },
     "execution_count": 37,
     "metadata": {},
     "output_type": "execute_result"
    }
   ],
   "source": [
    "girls = baby_names[baby_names['Gender'] == 'FEMALE']\n",
    "bodys = baby_names[baby_names['Gender'] == 'MALE']\n",
    "girls"
   ]
  },
  {
   "cell_type": "code",
   "execution_count": 38,
   "id": "18104d08-5136-4b9e-b23b-f3a1e0ebf571",
   "metadata": {},
   "outputs": [],
   "source": [
    "excel_file = pd.ExcelWriter('Baby_names.xlsx')"
   ]
  },
  {
   "cell_type": "code",
   "execution_count": 39,
   "id": "643f4f32-c60a-4aa1-96ed-1dfc7b1c3365",
   "metadata": {},
   "outputs": [],
   "source": [
    "girls.to_excel(excel_file, sheet_name='girls', index=False)\n",
    "bodys.to_excel(excel_file, sheet_name='boys', index=False, columns=['Year of Birth', 'Ethnicity'])\n",
    "\n",
    "excel_file.save()"
   ]
  },
  {
   "cell_type": "code",
   "execution_count": null,
   "id": "ada1b7a6-c44f-4824-8bf1-921a8075e991",
   "metadata": {},
   "outputs": [],
   "source": []
  }
 ],
 "metadata": {
  "kernelspec": {
   "display_name": "Python 3 (ipykernel)",
   "language": "python",
   "name": "python3"
  },
  "language_info": {
   "codemirror_mode": {
    "name": "ipython",
    "version": 3
   },
   "file_extension": ".py",
   "mimetype": "text/x-python",
   "name": "python",
   "nbconvert_exporter": "python",
   "pygments_lexer": "ipython3",
   "version": "3.9.12"
  }
 },
 "nbformat": 4,
 "nbformat_minor": 5
}
