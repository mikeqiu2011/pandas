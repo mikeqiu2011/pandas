{
 "cells": [
  {
   "cell_type": "code",
   "execution_count": 2,
   "id": "eacc7e1e-248c-4121-a55c-c4234de85db1",
   "metadata": {},
   "outputs": [],
   "source": [
    "import pandas as pd\n",
    "import datetime as dt"
   ]
  },
  {
   "cell_type": "markdown",
   "id": "cd9b087a-3d3c-4d35-a033-9428904d1b6a",
   "metadata": {},
   "source": [
    "# review of python's datetime module"
   ]
  },
  {
   "cell_type": "code",
   "execution_count": 3,
   "id": "00816d52-32ae-45b9-976f-01a4e62694ee",
   "metadata": {},
   "outputs": [],
   "source": [
    "someday = dt.date(2000,1,20)"
   ]
  },
  {
   "cell_type": "code",
   "execution_count": 4,
   "id": "c595c821-c9cd-49a3-a4c8-ec93ca564544",
   "metadata": {},
   "outputs": [
    {
     "data": {
      "text/plain": [
       "(2000, 1, 20)"
      ]
     },
     "execution_count": 4,
     "metadata": {},
     "output_type": "execute_result"
    }
   ],
   "source": [
    "someday.year, someday.month, someday.day"
   ]
  },
  {
   "cell_type": "code",
   "execution_count": 5,
   "id": "ea82029b-e876-4734-b484-eec9cf0be6d4",
   "metadata": {},
   "outputs": [
    {
     "data": {
      "text/plain": [
       "datetime.datetime(2000, 1, 20, 0, 0)"
      ]
     },
     "execution_count": 5,
     "metadata": {},
     "output_type": "execute_result"
    }
   ],
   "source": [
    "dt.datetime(2000, 1, 20) # default to midnight"
   ]
  },
  {
   "cell_type": "code",
   "execution_count": 6,
   "id": "3191f041-2d8a-4ab0-a5ff-fc903c8e23ba",
   "metadata": {},
   "outputs": [
    {
     "data": {
      "text/plain": [
       "datetime.datetime(2000, 1, 20, 17, 30, 57)"
      ]
     },
     "execution_count": 6,
     "metadata": {},
     "output_type": "execute_result"
    }
   ],
   "source": [
    "# year, month, day, hour, minute, second\n",
    "sometime = dt.datetime(2000, 1, 20, 17, 30, 57)\n",
    "sometime"
   ]
  },
  {
   "cell_type": "code",
   "execution_count": 7,
   "id": "b4f6c7b3-e591-4794-82d2-7fef4ec54509",
   "metadata": {},
   "outputs": [
    {
     "data": {
      "text/plain": [
       "'2000-01-20 17:30:57'"
      ]
     },
     "execution_count": 7,
     "metadata": {},
     "output_type": "execute_result"
    }
   ],
   "source": [
    "str(sometime)"
   ]
  },
  {
   "cell_type": "code",
   "execution_count": 8,
   "id": "9619b3a4-fd1b-49f9-93af-2d94043d0f08",
   "metadata": {},
   "outputs": [
    {
     "data": {
      "text/plain": [
       "(1, 17)"
      ]
     },
     "execution_count": 8,
     "metadata": {},
     "output_type": "execute_result"
    }
   ],
   "source": [
    "sometime.month, sometime.hour"
   ]
  },
  {
   "cell_type": "markdown",
   "id": "4641a260-38b1-4746-814c-e524a1d17f98",
   "metadata": {},
   "source": [
    "# pandas timestamp object"
   ]
  },
  {
   "cell_type": "code",
   "execution_count": 9,
   "id": "b84ebadc-3227-4614-ad0b-3398b3f96846",
   "metadata": {},
   "outputs": [
    {
     "data": {
      "text/plain": [
       "Timestamp('2023-02-13 20:18:59')"
      ]
     },
     "execution_count": 9,
     "metadata": {},
     "output_type": "execute_result"
    }
   ],
   "source": [
    "pd.Timestamp('2023-02-13')\n",
    "pd.Timestamp('2023/2/13')\n",
    "pd.Timestamp('2023, 2, 13')\n",
    "pd.Timestamp('2/13/2023')\n",
    "pd.Timestamp('13/2/2023') # pandas can figure out the month and day\n",
    "\n",
    "pd.Timestamp('4/3/2023') # cautious of this one\n",
    "pd.Timestamp('2023/2/13 20:18:59')\n",
    "pd.Timestamp('2023/2/13 8:18:59 PM')"
   ]
  },
  {
   "cell_type": "code",
   "execution_count": 10,
   "id": "ce91c003-05e1-42e7-9ed8-c7378adb634e",
   "metadata": {},
   "outputs": [
    {
     "data": {
      "text/plain": [
       "Timestamp('2000-10-01 00:00:00')"
      ]
     },
     "execution_count": 10,
     "metadata": {},
     "output_type": "execute_result"
    }
   ],
   "source": [
    "pd.Timestamp(dt.datetime(2000, 10, 1))\n",
    "pd.Timestamp(dt.date(2000, 10, 1))"
   ]
  },
  {
   "cell_type": "code",
   "execution_count": 11,
   "id": "4c0d8d56-e725-4904-9fef-ac632b3348d1",
   "metadata": {},
   "outputs": [
    {
     "data": {
      "text/plain": [
       "Timestamp('2000-10-01 20:15:40')"
      ]
     },
     "execution_count": 11,
     "metadata": {},
     "output_type": "execute_result"
    }
   ],
   "source": [
    "pd.Timestamp(dt.datetime(2000, 10, 1, 20, 15, 40))"
   ]
  },
  {
   "cell_type": "markdown",
   "id": "06f491e3-6dbf-4888-86ab-2975ca8bff66",
   "metadata": {},
   "source": [
    "pandas DateTimeIndex obj"
   ]
  },
  {
   "cell_type": "code",
   "execution_count": 12,
   "id": "34f1f074-cc6e-4275-869d-9e0322a52087",
   "metadata": {},
   "outputs": [
    {
     "data": {
      "text/plain": [
       "DatetimeIndex(['2016-01-02', '2016-04-12', '2009-09-07'], dtype='datetime64[ns]', freq=None)"
      ]
     },
     "execution_count": 12,
     "metadata": {},
     "output_type": "execute_result"
    }
   ],
   "source": [
    "dates = ['2016-01-02', '2016/04/12', '2009-09-07']\n",
    "pd.DatetimeIndex(dates)"
   ]
  },
  {
   "cell_type": "code",
   "execution_count": 13,
   "id": "7cc7217d-9f64-47ef-bc2b-73a6f3383bdb",
   "metadata": {},
   "outputs": [],
   "source": [
    "dates = [dt.date(2000,1,1), dt.date(2015, 10, 1), dt.date(2023,1,1)]\n",
    "dtIndex = pd.DatetimeIndex(dates)"
   ]
  },
  {
   "cell_type": "code",
   "execution_count": 14,
   "id": "20c0f3bf-5e21-44eb-91d5-26c7795a0831",
   "metadata": {},
   "outputs": [
    {
     "data": {
      "text/plain": [
       "2000-01-01    100\n",
       "2015-10-01    200\n",
       "2023-01-01    300\n",
       "dtype: int64"
      ]
     },
     "execution_count": 14,
     "metadata": {},
     "output_type": "execute_result"
    }
   ],
   "source": [
    "values = [100, 200, 300]\n",
    "pd.Series(data=values, index=dtIndex)"
   ]
  },
  {
   "cell_type": "markdown",
   "id": "399a2be4-cf57-4a99-8c93-6aa2a65e6ca2",
   "metadata": {},
   "source": [
    "# pd.to_datetime()"
   ]
  },
  {
   "cell_type": "code",
   "execution_count": 15,
   "id": "dbb91b93-d3c0-4e87-8b7f-786d3baf3736",
   "metadata": {},
   "outputs": [
    {
     "data": {
      "text/plain": [
       "Timestamp('2000-01-01 00:00:00')"
      ]
     },
     "execution_count": 15,
     "metadata": {},
     "output_type": "execute_result"
    }
   ],
   "source": [
    "pd.to_datetime('2000/01/01')"
   ]
  },
  {
   "cell_type": "code",
   "execution_count": 16,
   "id": "dba02a95-99ef-43b6-9e0c-85d7f19855a0",
   "metadata": {},
   "outputs": [
    {
     "data": {
      "text/plain": [
       "Timestamp('2000-01-01 00:00:00')"
      ]
     },
     "execution_count": 16,
     "metadata": {},
     "output_type": "execute_result"
    }
   ],
   "source": [
    "pd.to_datetime(dt.date(2000, 1, 1))"
   ]
  },
  {
   "cell_type": "code",
   "execution_count": 17,
   "id": "51b236eb-b1a3-4f6a-a7b4-c15c66aef9af",
   "metadata": {},
   "outputs": [
    {
     "data": {
      "text/plain": [
       "DatetimeIndex(['2000-01-01', '2010-10-10', '2020-01-01', '1996-07-04'], dtype='datetime64[ns]', freq=None)"
      ]
     },
     "execution_count": 17,
     "metadata": {},
     "output_type": "execute_result"
    }
   ],
   "source": [
    "pd.to_datetime(['2000/1/1', '2010/10/10', '2020', 'July 4th, 1996'])"
   ]
  },
  {
   "cell_type": "code",
   "execution_count": 18,
   "id": "82753bd7-86d6-4ae8-88f3-20ea256b0e52",
   "metadata": {},
   "outputs": [
    {
     "data": {
      "text/plain": [
       "0          2000/1/1\n",
       "1        2010/10/10\n",
       "2              2020\n",
       "3    July 4th, 1996\n",
       "dtype: object"
      ]
     },
     "execution_count": 18,
     "metadata": {},
     "output_type": "execute_result"
    }
   ],
   "source": [
    "times = pd.Series(['2000/1/1', '2010/10/10', '2020', 'July 4th, 1996'])\n",
    "times"
   ]
  },
  {
   "cell_type": "code",
   "execution_count": 19,
   "id": "bb482572-f805-48a9-8a5e-59c7471afeb9",
   "metadata": {},
   "outputs": [
    {
     "data": {
      "text/plain": [
       "0   2000-01-01\n",
       "1   2010-10-10\n",
       "2   2020-01-01\n",
       "3   1996-07-04\n",
       "dtype: datetime64[ns]"
      ]
     },
     "execution_count": 19,
     "metadata": {},
     "output_type": "execute_result"
    }
   ],
   "source": [
    "# convert normal series to datetimeindex\n",
    "pd.to_datetime(times)"
   ]
  },
  {
   "cell_type": "code",
   "execution_count": 20,
   "id": "6f7d1344-1ae3-48d5-a8d3-49b56a4c678d",
   "metadata": {},
   "outputs": [
    {
     "data": {
      "text/plain": [
       "0    July 4th, 1996\n",
       "1        10/04/1991\n",
       "2             Hello\n",
       "3        2015-02-31\n",
       "dtype: object"
      ]
     },
     "execution_count": 20,
     "metadata": {},
     "output_type": "execute_result"
    }
   ],
   "source": [
    "# fucky dates\n",
    "dates = pd.Series(['July 4th, 1996', '10/04/1991', 'Hello', '2015-02-31'])\n",
    "dates"
   ]
  },
  {
   "cell_type": "code",
   "execution_count": 21,
   "id": "eb23e59a-94ef-445a-89c6-919ee00c8146",
   "metadata": {},
   "outputs": [
    {
     "data": {
      "text/plain": [
       "0   1996-07-04\n",
       "1   1991-10-04\n",
       "2          NaT\n",
       "3          NaT\n",
       "dtype: datetime64[ns]"
      ]
     },
     "execution_count": 21,
     "metadata": {},
     "output_type": "execute_result"
    }
   ],
   "source": [
    "# pd.to_datetime(dates) by default error is raised\n",
    "pd.to_datetime(dates, errors='coerce') # convert to 'NaT' of invalid date string"
   ]
  },
  {
   "cell_type": "code",
   "execution_count": 22,
   "id": "ca703d4c-f775-4259-835e-601b28da9ac4",
   "metadata": {},
   "outputs": [
    {
     "data": {
      "text/plain": [
       "DatetimeIndex(['2012-10-08 18:15:05', '2012-10-09 18:15:05'], dtype='datetime64[ns]', freq=None)"
      ]
     },
     "execution_count": 22,
     "metadata": {},
     "output_type": "execute_result"
    }
   ],
   "source": [
    "ts = [1349720105, 1349806505]\n",
    "pd.to_datetime(ts, unit='s')"
   ]
  },
  {
   "cell_type": "markdown",
   "id": "45d6282c-0242-4898-9d7f-d49bdb4a49f7",
   "metadata": {},
   "source": [
    "# create range of dates with the pd.date_range() - part 1"
   ]
  },
  {
   "cell_type": "code",
   "execution_count": 23,
   "id": "61a64030-f190-4ae8-8772-645b4f42919d",
   "metadata": {},
   "outputs": [
    {
     "data": {
      "text/plain": [
       "DatetimeIndex(['2023-01-01', '2023-01-03', '2023-01-05', '2023-01-07'], dtype='datetime64[ns]', freq='2D')"
      ]
     },
     "execution_count": 23,
     "metadata": {},
     "output_type": "execute_result"
    }
   ],
   "source": [
    "times = pd.date_range(start='2023/1/1', end='2023/1/8', freq='2d')\n",
    "times"
   ]
  },
  {
   "cell_type": "code",
   "execution_count": 24,
   "id": "603e2c5f-5df1-4f5f-8ee2-1db59c432633",
   "metadata": {},
   "outputs": [
    {
     "data": {
      "text/plain": [
       "(pandas.core.indexes.datetimes.DatetimeIndex,\n",
       " pandas._libs.tslibs.timestamps.Timestamp)"
      ]
     },
     "execution_count": 24,
     "metadata": {},
     "output_type": "execute_result"
    }
   ],
   "source": [
    "type(times), type(times[0])"
   ]
  },
  {
   "cell_type": "code",
   "execution_count": 25,
   "id": "41a9e0ad-4403-4360-9f2b-9d7dbee1c53c",
   "metadata": {},
   "outputs": [
    {
     "data": {
      "text/plain": [
       "DatetimeIndex(['2023-01-02', '2023-01-03', '2023-01-04', '2023-01-05',\n",
       "               '2023-01-06', '2023-01-09', '2023-01-10'],\n",
       "              dtype='datetime64[ns]', freq='B')"
      ]
     },
     "execution_count": 25,
     "metadata": {},
     "output_type": "execute_result"
    }
   ],
   "source": [
    "# business day exclude weekend/ holidy\n",
    "pd.date_range(start='2023/1/1', end='2023/1/10', freq='b')"
   ]
  },
  {
   "cell_type": "code",
   "execution_count": 26,
   "id": "fe3be54b-3a57-4184-bd62-d247cab7d332",
   "metadata": {},
   "outputs": [
    {
     "data": {
      "text/plain": [
       "DatetimeIndex(['2016-01-03', '2016-01-10'], dtype='datetime64[ns]', freq='W-SUN')"
      ]
     },
     "execution_count": 26,
     "metadata": {},
     "output_type": "execute_result"
    }
   ],
   "source": [
    "# weekday, default to sunday\n",
    "pd.date_range(start='2016/1/1', end='2016/1/15', freq='w')"
   ]
  },
  {
   "cell_type": "code",
   "execution_count": 27,
   "id": "18b93e8a-fe73-42d8-97d5-c14018d1e268",
   "metadata": {},
   "outputs": [
    {
     "data": {
      "text/plain": [
       "DatetimeIndex(['2016-01-01', '2016-01-08', '2016-01-15'], dtype='datetime64[ns]', freq='W-FRI')"
      ]
     },
     "execution_count": 27,
     "metadata": {},
     "output_type": "execute_result"
    }
   ],
   "source": [
    "pd.date_range(start='2016/1/1', end='2016/1/15', freq='w-fri')"
   ]
  },
  {
   "cell_type": "code",
   "execution_count": 28,
   "id": "00f9a403-d836-4463-90ec-1f77355574a8",
   "metadata": {},
   "outputs": [
    {
     "data": {
      "text/plain": [
       "DatetimeIndex(['2016-01-01 00:00:00', '2016-01-01 06:00:00',\n",
       "               '2016-01-01 12:00:00', '2016-01-01 18:00:00',\n",
       "               '2016-01-02 00:00:00', '2016-01-02 06:00:00',\n",
       "               '2016-01-02 12:00:00', '2016-01-02 18:00:00',\n",
       "               '2016-01-03 00:00:00', '2016-01-03 06:00:00',\n",
       "               '2016-01-03 12:00:00', '2016-01-03 18:00:00',\n",
       "               '2016-01-04 00:00:00', '2016-01-04 06:00:00',\n",
       "               '2016-01-04 12:00:00', '2016-01-04 18:00:00',\n",
       "               '2016-01-05 00:00:00', '2016-01-05 06:00:00',\n",
       "               '2016-01-05 12:00:00', '2016-01-05 18:00:00',\n",
       "               '2016-01-06 00:00:00', '2016-01-06 06:00:00',\n",
       "               '2016-01-06 12:00:00', '2016-01-06 18:00:00',\n",
       "               '2016-01-07 00:00:00', '2016-01-07 06:00:00',\n",
       "               '2016-01-07 12:00:00', '2016-01-07 18:00:00',\n",
       "               '2016-01-08 00:00:00', '2016-01-08 06:00:00',\n",
       "               '2016-01-08 12:00:00', '2016-01-08 18:00:00',\n",
       "               '2016-01-09 00:00:00', '2016-01-09 06:00:00',\n",
       "               '2016-01-09 12:00:00', '2016-01-09 18:00:00',\n",
       "               '2016-01-10 00:00:00', '2016-01-10 06:00:00',\n",
       "               '2016-01-10 12:00:00', '2016-01-10 18:00:00',\n",
       "               '2016-01-11 00:00:00', '2016-01-11 06:00:00',\n",
       "               '2016-01-11 12:00:00', '2016-01-11 18:00:00',\n",
       "               '2016-01-12 00:00:00', '2016-01-12 06:00:00',\n",
       "               '2016-01-12 12:00:00', '2016-01-12 18:00:00',\n",
       "               '2016-01-13 00:00:00', '2016-01-13 06:00:00',\n",
       "               '2016-01-13 12:00:00', '2016-01-13 18:00:00',\n",
       "               '2016-01-14 00:00:00', '2016-01-14 06:00:00',\n",
       "               '2016-01-14 12:00:00', '2016-01-14 18:00:00',\n",
       "               '2016-01-15 00:00:00'],\n",
       "              dtype='datetime64[ns]', freq='6H')"
      ]
     },
     "execution_count": 28,
     "metadata": {},
     "output_type": "execute_result"
    }
   ],
   "source": [
    "# hour\n",
    "pd.date_range(start='2016/1/1', end='2016/1/15', freq='6h')"
   ]
  },
  {
   "cell_type": "code",
   "execution_count": 29,
   "id": "4a1a6ffc-46a7-4c99-9962-b17df3082288",
   "metadata": {},
   "outputs": [
    {
     "data": {
      "text/plain": [
       "DatetimeIndex(['2016-01-31', '2016-02-29', '2016-03-31', '2016-04-30',\n",
       "               '2016-05-31', '2016-06-30', '2016-07-31', '2016-08-31',\n",
       "               '2016-09-30', '2016-10-31', '2016-11-30'],\n",
       "              dtype='datetime64[ns]', freq='M')"
      ]
     },
     "execution_count": 29,
     "metadata": {},
     "output_type": "execute_result"
    }
   ],
   "source": [
    "# month end\n",
    "pd.date_range(start='2016/1/1', end='2016/12/15', freq='m')"
   ]
  },
  {
   "cell_type": "code",
   "execution_count": 30,
   "id": "a4dc0d79-f2f7-4666-8297-f08dbb0ba673",
   "metadata": {},
   "outputs": [
    {
     "data": {
      "text/plain": [
       "DatetimeIndex(['2016-01-01', '2016-02-01', '2016-03-01', '2016-04-01',\n",
       "               '2016-05-01', '2016-06-01', '2016-07-01', '2016-08-01',\n",
       "               '2016-09-01', '2016-10-01', '2016-11-01', '2016-12-01'],\n",
       "              dtype='datetime64[ns]', freq='MS')"
      ]
     },
     "execution_count": 30,
     "metadata": {},
     "output_type": "execute_result"
    }
   ],
   "source": [
    "# month start\n",
    "pd.date_range(start='2016/1/1', end='2016/12/15', freq='MS')"
   ]
  },
  {
   "cell_type": "code",
   "execution_count": 31,
   "id": "ce4a2ab9-e46a-4949-9a30-d3cc2d7e1438",
   "metadata": {},
   "outputs": [
    {
     "data": {
      "text/plain": [
       "DatetimeIndex(['2016-12-31', '2017-12-31', '2018-12-31', '2019-12-31',\n",
       "               '2020-12-31', '2021-12-31', '2022-12-31', '2023-12-31',\n",
       "               '2024-12-31', '2025-12-31', '2026-12-31', '2027-12-31',\n",
       "               '2028-12-31', '2029-12-31', '2030-12-31', '2031-12-31',\n",
       "               '2032-12-31', '2033-12-31', '2034-12-31', '2035-12-31',\n",
       "               '2036-12-31', '2037-12-31', '2038-12-31', '2039-12-31',\n",
       "               '2040-12-31', '2041-12-31', '2042-12-31', '2043-12-31',\n",
       "               '2044-12-31', '2045-12-31', '2046-12-31', '2047-12-31',\n",
       "               '2048-12-31', '2049-12-31'],\n",
       "              dtype='datetime64[ns]', freq='A-DEC')"
      ]
     },
     "execution_count": 31,
     "metadata": {},
     "output_type": "execute_result"
    }
   ],
   "source": [
    "# year end\n",
    "pd.date_range(start='2016/1/1', end='2050/12/15', freq='A')"
   ]
  },
  {
   "cell_type": "markdown",
   "id": "c46b40e5-bda4-4562-b6ab-e1756e10a1a8",
   "metadata": {},
   "source": [
    "# pd.date_range() - part 2"
   ]
  },
  {
   "cell_type": "code",
   "execution_count": 35,
   "id": "4a0c9edf-436d-4dd7-b24e-e6e7dfc8a833",
   "metadata": {},
   "outputs": [
    {
     "data": {
      "text/plain": [
       "DatetimeIndex(['2023-01-01', '2023-01-02', '2023-01-03', '2023-01-04',\n",
       "               '2023-01-05', '2023-01-06', '2023-01-07', '2023-01-08',\n",
       "               '2023-01-09', '2023-01-10'],\n",
       "              dtype='datetime64[ns]', freq='D')"
      ]
     },
     "execution_count": 35,
     "metadata": {},
     "output_type": "execute_result"
    }
   ],
   "source": [
    "# periods specify the number item you want to return\n",
    "pd.date_range(start='2023/1/1', periods=10)"
   ]
  },
  {
   "cell_type": "code",
   "execution_count": 39,
   "id": "77039c55-b067-47e3-9738-125cf2645e5e",
   "metadata": {},
   "outputs": [
    {
     "data": {
      "text/plain": [
       "DatetimeIndex(['2023-01-02', '2023-01-03', '2023-01-04', '2023-01-05',\n",
       "               '2023-01-06', '2023-01-09', '2023-01-10', '2023-01-11',\n",
       "               '2023-01-12', '2023-01-13'],\n",
       "              dtype='datetime64[ns]', freq='B')"
      ]
     },
     "execution_count": 39,
     "metadata": {},
     "output_type": "execute_result"
    }
   ],
   "source": [
    "pd.date_range(start='2023/1/1', periods=10, freq='B')"
   ]
  },
  {
   "cell_type": "code",
   "execution_count": 38,
   "id": "4b52b5e3-cdef-4856-a5c6-7447f3d9ad25",
   "metadata": {},
   "outputs": [
    {
     "data": {
      "text/plain": [
       "DatetimeIndex(['2023-01-01', '2023-01-08', '2023-01-15', '2023-01-22',\n",
       "               '2023-01-29', '2023-02-05', '2023-02-12', '2023-02-19',\n",
       "               '2023-02-26', '2023-03-05'],\n",
       "              dtype='datetime64[ns]', freq='W-SUN')"
      ]
     },
     "execution_count": 38,
     "metadata": {},
     "output_type": "execute_result"
    }
   ],
   "source": [
    " pd.date_range(start='2023/1/1', periods=10, freq='W-SUN')"
   ]
  },
  {
   "cell_type": "code",
   "execution_count": 43,
   "id": "fc3c05e6-95bb-4d2b-be59-106b178c1a8c",
   "metadata": {},
   "outputs": [
    {
     "data": {
      "text/plain": [
       "DatetimeIndex(['2023-01-01', '2023-02-01', '2023-03-01', '2023-04-01',\n",
       "               '2023-05-01', '2023-06-01', '2023-07-01', '2023-08-01',\n",
       "               '2023-09-01', '2023-10-01'],\n",
       "              dtype='datetime64[ns]', freq='MS')"
      ]
     },
     "execution_count": 43,
     "metadata": {},
     "output_type": "execute_result"
    }
   ],
   "source": [
    "pd.date_range(start='2023/1/1', periods=10, freq='MS')"
   ]
  },
  {
   "cell_type": "markdown",
   "id": "e926d537-0070-4922-bab7-e09cd5b17adf",
   "metadata": {},
   "source": [
    "# pd.date_range() - part 3"
   ]
  },
  {
   "cell_type": "code",
   "execution_count": 46,
   "id": "e5130d5d-eb21-4e6e-a6fc-f76d59560507",
   "metadata": {},
   "outputs": [
    {
     "data": {
      "text/plain": [
       "DatetimeIndex(['2022-12-15', '2022-12-17', '2022-12-19', '2022-12-21',\n",
       "               '2022-12-23', '2022-12-25', '2022-12-27', '2022-12-29',\n",
       "               '2022-12-31', '2023-01-02'],\n",
       "              dtype='datetime64[ns]', freq='2D')"
      ]
     },
     "execution_count": 46,
     "metadata": {},
     "output_type": "execute_result"
    }
   ],
   "source": [
    "pd.date_range(end='2023/1/2', periods=10, freq='2D')"
   ]
  },
  {
   "cell_type": "markdown",
   "id": "1db946a9-9840-4bea-aa60-2ba1600076e9",
   "metadata": {},
   "source": [
    "# .dt Accessor"
   ]
  },
  {
   "cell_type": "code",
   "execution_count": null,
   "id": "dba58e22-e26d-4d95-937a-319f655dc963",
   "metadata": {},
   "outputs": [],
   "source": [
    "sd"
   ]
  }
 ],
 "metadata": {
  "kernelspec": {
   "display_name": "Python 3 (ipykernel)",
   "language": "python",
   "name": "python3"
  },
  "language_info": {
   "codemirror_mode": {
    "name": "ipython",
    "version": 3
   },
   "file_extension": ".py",
   "mimetype": "text/x-python",
   "name": "python",
   "nbconvert_exporter": "python",
   "pygments_lexer": "ipython3",
   "version": "3.9.12"
  }
 },
 "nbformat": 4,
 "nbformat_minor": 5
}
